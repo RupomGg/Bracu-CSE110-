{
  "nbformat": 4,
  "nbformat_minor": 0,
  "metadata": {
    "colab": {
      "name": "CSE110_LAB_ASSIGNMENT5_Tuuple & Dictonary.ipynb",
      "provenance": [],
      "collapsed_sections": []
    },
    "kernelspec": {
      "name": "python3",
      "display_name": "Python 3"
    },
    "language_info": {
      "name": "python"
    }
  },
  "cells": [
    {
      "cell_type": "markdown",
      "source": [
        "Task-01\n",
        "Assume, you have been given a tuple.\n",
        "a_tuple = (\"The Institute\", (\"Best Mystery & Thriller\", \"The Silent Patient\", 68821), 75717,\n",
        "[1, 2, 3, 400, 5, 6, 7], (\"Best Fiction\", \"The Testaments\", 98291))\n",
        "Write one line of Python code to access and print the value 400.\n",
        "===================================================================\n",
        "Output: 400\n",
        "==================================================================="
      ],
      "metadata": {
        "id": "2u-FcT7tvecx"
      }
    },
    {
      "cell_type": "code",
      "execution_count": null,
      "metadata": {
        "colab": {
          "base_uri": "https://localhost:8080/"
        },
        "id": "eekrvNUBvScB",
        "outputId": "865258d8-cc55-4fc5-9ae9-30185a9e17b2"
      },
      "outputs": [
        {
          "output_type": "stream",
          "name": "stdout",
          "text": [
            "400\n"
          ]
        }
      ],
      "source": [
        "a_tuple = (\"The Institute\", (\"Best Mystery & Thriller\", \"The Silent Patient\", 68821), 75717,\n",
        "[1, 2, 3, 400, 5, 6, 7], (\"Best Fiction\", \"The Testaments\", 98291))\n",
        "\n",
        "print(a_tuple[3][3])"
      ]
    },
    {
      "cell_type": "markdown",
      "source": [
        "Task-02\n",
        "Assume, you have been given a tuple. Write a Python program that creates a new\n",
        "tuple excluding the first and last two elements of the given tuple and prints the new tuple.\n",
        "Hint: You may use tuple slicing.\n",
        "===================================================================\n",
        "Sample Input 1:\n",
        "(10, 20, 24, 25, 26, 35, 70)\n",
        "Sample Output 1:\n",
        "(24, 25, 26)\n",
        "===================================================================\n",
        "Sample Input 2:\n",
        "(-10, 20, 30, 40)\n",
        "Sample Output 2:\n",
        "()\n",
        "===================================================================\n",
        "Sample Input 3:\n",
        "(-10, 20, 25, 30, 40)\n",
        "Sample Output 3:\n",
        "(25,)"
      ],
      "metadata": {
        "id": "rjnxs5n_vyOy"
      }
    },
    {
      "cell_type": "code",
      "source": [
        "##todo\n",
        "a_tuple = [int(x) for x in input(\"Enter A Tupple: \")[1:-1].split(\", \")]\n",
        "\n",
        "print(tuple(a_tuple[2:-2]))"
      ],
      "metadata": {
        "id": "9bwfC9ovwTL2"
      },
      "execution_count": null,
      "outputs": []
    },
    {
      "cell_type": "markdown",
      "source": [
        "Task 3\n",
        "\n",
        "Assume, you have been given a tuple.\n",
        "book_info = (\n",
        "(\"Best Mystery & Thriller\",\"The Silent Patient\",68,821),\n",
        "(\"Best Horror\",\"The Institute\",75,717),\n",
        "(\"Best History & Biography\",\"The five\",31,783 ),\n",
        "(\"Best Fiction\",\"The Testaments\",98,291)\n",
        ")\n",
        "Write a Python program that prints the size of the tuple and all its elements as shown below.\n",
        "===================================================================\n",
        "Output:\n",
        "Size of the tuple is: 4\n",
        "('Best Mystery & Thriller', 'The Silent Patient', 68, 821)\n",
        "('Best Horror', 'The Institute', 75, 717)\n",
        "('Best History & Biography', 'The five', 31, 783)\n",
        "('Best Fiction', 'The Testaments', 98, 291)\n",
        "==================================================================="
      ],
      "metadata": {
        "id": "iV11s9xMwTij"
      }
    },
    {
      "cell_type": "code",
      "source": [
        "##todo\n",
        "book_info = ( \n",
        "(\"Best Mystery & Thriller\",\"The Silent Patient\",68,821), \n",
        "(\"Best Horror\",\"The Institute\",75,717), \n",
        "(\"Best History & Biography\",\"The five\",31,783 ), \n",
        "(\"Best Fiction\",\"The Testaments\",98,291) \n",
        ")\n",
        "print(\"Size of my tuple is:\", len(book_info))\n",
        "for i in book_info:\n",
        "  print(i)"
      ],
      "metadata": {
        "colab": {
          "base_uri": "https://localhost:8080/"
        },
        "id": "NH-QS75twjns",
        "outputId": "8f493de0-0ecf-44c3-b458-e72ab263280a"
      },
      "execution_count": null,
      "outputs": [
        {
          "output_type": "stream",
          "name": "stdout",
          "text": [
            "Size of my tuple is: 4\n",
            "('Best Mystery & Thriller', 'The Silent Patient', 68, 821)\n",
            "('Best Horror', 'The Institute', 75, 717)\n",
            "('Best History & Biography', 'The five', 31, 783)\n",
            "('Best Fiction', 'The Testaments', 98, 291)\n"
          ]
        }
      ]
    },
    {
      "cell_type": "markdown",
      "source": [
        "Task 4\n",
        "\n",
        "Assume, you have been given a tuple with details about books that won the Good Reads\n",
        "Choice Awards.\n",
        "book_info = (                                                            \n",
        "(\"Best Mystery & Thriller\",\"The Silent Patient\",68821),                    \n",
        "(\"Best Horror\",\"The Institute\",75717),                                    \n",
        "(\"Best History & Biography\",\"The five\",31783 ),                              \n",
        "(\"Best Fiction\",\"The Testaments\",98291)\n",
        ")\n",
        "\n",
        "                                                                          \n",
        "Write a Python program that prints the award category, the book name, and its total votes\n",
        "earned as shown below.\n",
        "[Must use Tuple unpacking for printing and need to handle the quotation marks as a partof the output]\n",
        "===================================================================\n",
        "Output:\n",
        "The Silent Patient won the 'Best Mystery & Thriller' category with 68821 votes\n",
        "The Institute won the 'Best Horror' category with 75717 votes\n",
        "The five won the 'Best History & Biography' category with 31783 votes\n",
        "The Testaments won the 'Best Fiction' category with 98291 votes\n",
        "==================================================================="
      ],
      "metadata": {
        "id": "9P3UhCcd28Lf"
      }
    },
    {
      "cell_type": "code",
      "source": [
        "book_info = (\n",
        "(\"Best Mystery & Thriller\",\"The Silent Patient\",68821),\n",
        "(\"Best Horror\",\"The Institute\",75717),\n",
        "(\"Best History & Biography\",\"The five\",31783 ),\n",
        "(\"Best Fiction\",\"The Testaments\",98291) )\n",
        "for element  in book_info:\n",
        "   award, book_name, votes = element\n",
        "   print(f\"{book_name} won the '{award}'catagory with {votes}\")"
      ],
      "metadata": {
        "colab": {
          "base_uri": "https://localhost:8080/"
        },
        "id": "t_n194_a30hO",
        "outputId": "d483f1af-8342-4d36-a7f6-1888cad1917c"
      },
      "execution_count": null,
      "outputs": [
        {
          "output_type": "stream",
          "name": "stdout",
          "text": [
            "The Silent Patient won the 'Best Mystery & Thriller'catagory with 68821\n",
            "The Institute won the 'Best Horror'catagory with 75717\n",
            "The five won the 'Best History & Biography'catagory with 31783\n",
            "The Testaments won the 'Best Fiction'catagory with 98291\n"
          ]
        }
      ]
    },
    {
      "cell_type": "markdown",
      "source": [
        "Task 5\n",
        "\n",
        "Write a python program that takes an input from the user and finds the number of times that the input is present in a given tuple.\n",
        "\n",
        "===================================================================\n",
        "\n",
        "Example 1:\n",
        "\n",
        "Given tuple: (10, 8, 5, 2, 10, 15, 10, 8, 5, 8, 8, 2)\n",
        "\n",
        "\n",
        "Sample Input 1:\n",
        "8\n",
        "\n",
        "Sample Output 1:                                                                       8 appears 4 times in the tuple\n",
        "\n",
        "===================================================================\n",
        "\n",
        "Example 2:\n",
        "Given tuple: (10, 8, 5, 2, 10, 15, 10, 8, 5, 8, 8, 2)\n",
        "\n",
        "Sample Input 2:1\n",
        "\n",
        "Sample Output 2:1 appears 0 times in the tuple\n",
        "\n",
        "==================================================================="
      ],
      "metadata": {
        "id": "k1zgmM8Z5FjB"
      }
    },
    {
      "cell_type": "code",
      "source": [
        "sample=int(input(\"enter a number:\"))\n",
        "given_tuple = (10, 8, 5, 2, 10, 15, 10, 8, 5, 8, 8, 2)\n",
        "count = 0\n",
        "for i in given_tuple:\n",
        "    if i == sample:\n",
        "       count+=1\n",
        "    else:\n",
        "       pass\n",
        "print(sample ,\"appers\",count,\"times in the tuple\")"
      ],
      "metadata": {
        "id": "IYnmMkEd27zY"
      },
      "execution_count": null,
      "outputs": []
    },
    {
      "cell_type": "markdown",
      "source": [
        "Task-6\n",
        "\n",
        "Write a Python program to reverse a given tuple.\n",
        "[You are not allowed to use tuple slicing]\n",
        "\n",
        "\n",
        "================================================================\n",
        "\n",
        "\n",
        "\n",
        "\n",
        "Note: Unlike lists, tuples are immutable. So, in order to reverse a tuple, we may need to convert it into a list first, then modify the list, and finally convert it back to a tuple.\n",
        "\n",
        "===============================================================\n",
        "\n",
        "Example 1:\n",
        "Given tuple: ('a', 'b', 'c', 'd', 'e', 'f', 'g', 'h')                         \n",
        "Output:('h', 'g', 'f', 'e', 'd', 'c', 'b', 'a')\n",
        "\n",
        "==============================================================\n",
        "\n",
        "\n",
        "Example 2:\n",
        "Given tuple: (10, 20, 30, 40, 50, 60)\n",
        "\n",
        "Output:\n",
        "(60, 50, 40, 30, 20, 10)"
      ],
      "metadata": {
        "id": "lCdnwgvq7CRy"
      }
    },
    {
      "cell_type": "code",
      "source": [
        "given_tuple=('a', 'b', 'c', 'd', 'e', 'f', 'g', 'h')\n",
        "reverse_tuple = list(given_tuple)\n",
        "reverse_tuple.reverse()\n",
        "print(tuple(reverse_tuple))"
      ],
      "metadata": {
        "id": "s1WO_eCl8bUE"
      },
      "execution_count": null,
      "outputs": []
    },
    {
      "cell_type": "markdown",
      "source": [
        "Task-7\n",
        "\n",
        "Suppose you are given two dictionaries.\n",
        "Now create a new dictionary \"marks\", merging the two dictionaries, so that the original two\n",
        "dictionaries remain unchanged.\n",
        "Note: You can use dictionary functions.\n",
        "\n",
        "================================================================\n",
        "\n",
        "Given:\n",
        "{'Harry':15, 'Draco':8, 'Nevil':19}\n",
        "{'Ginie':18, 'Luna': 14}\n",
        "\n",
        "Output:{'Harry': 15, 'Draco': 8, 'Nevil': 19, 'Ginie': 18, 'Luna': 14}\n",
        "\n",
        "================================================================\n",
        "\n",
        "Given:\n",
        "{'A':90, 'B': 0}\n",
        "{'C':50}\n",
        "\n",
        "Output:{'A': 90, 'B': 0, 'C': 50}\n",
        "\n",
        "================================================================\n",
        "\n",
        "\n"
      ],
      "metadata": {
        "id": "SarHVfrn94xN"
      }
    },
    {
      "cell_type": "code",
      "source": [
        "#todo\n",
        "dect_1 = {'Harry':15, 'Draco':8, 'Nevil':19}\n",
        "dect_2 = {'Ginie':18, 'Luna': 14}\n",
        "f_dect = {**dect_1,**dect_2}\n",
        "\n",
        "print(f_dect)"
      ],
      "metadata": {
        "id": "v5nX8-CxADHt",
        "colab": {
          "base_uri": "https://localhost:8080/"
        },
        "outputId": "3d476f1f-e769-4c8b-b34f-5b0b0ffdef3c"
      },
      "execution_count": null,
      "outputs": [
        {
          "output_type": "stream",
          "name": "stdout",
          "text": [
            "{'Harry': 15, 'Draco': 8, 'Nevil': 19, 'Ginie': 18, 'Luna': 14}\n"
          ]
        }
      ]
    },
    {
      "cell_type": "markdown",
      "source": [
        "Task 8\n",
        "\n",
        "Write a Python program that takes a dictionary as an input from the user and then prints the\n",
        "average of all the values in the dictionary.\n",
        "[You are not allowed to use len() and sum()]\n",
        "\n",
        "================================================================\n",
        "\n",
        "\n",
        "**Hint (1):** For taking dictionary input\n",
        "Approach (1): For taking dictionary as an input from the user, you may take the whole dictionary\n",
        "as a string using the input() function. Then you can use the split(), strip() functions and\n",
        "conditions to get the keys and values from the string. Finally, you can make the dictionary using\n",
        "the obtained data.\n",
        "\n",
        "Approach (2): If the first approach seems too difficult you can create an empty dictionary and\n",
        "then just run a simple loop. For each iteration ask the user for a key and a value using the\n",
        "input() function and keep updating the dictionary with the key and value.\n",
        "\n",
        "**Hint (2):** After you have a dictionary, you can use dictionary functions to get all the values from\n",
        "it, run loop to calculate the sum and the total number of values in the dictionary in order to find\n",
        "out the average.\n",
        "\n",
        "================================================================\n",
        "\n",
        "Sample Input 1:{'Jon': 100, 'Dan':200, 'Rob':300}\n",
        "\n",
        "Sample Output 1:Average is 200.\n",
        "\n",
        "================================================================\n",
        "\n",
        "Sample Input 2:{'Jon': 100, 'Dan':200, 'Rob':30, 'Ned':110}\n",
        "\n",
        "Sample Output 2:Average is 110.\n",
        "\n",
        "================================================================"
      ],
      "metadata": {
        "id": "gmzNUBkxAGi4"
      }
    },
    {
      "cell_type": "code",
      "source": [
        "#todo\n",
        "length = int(input(\"Enter the dictonary length:\"))\n",
        "dect_1 = {}\n",
        "for i in range(length):\n",
        "   key = input(\"Enter a key:\")\n",
        "   values = int(input(\"Enter the value:\"))\n",
        "   dect_1[key] = values\n",
        "print(dect_1)\n",
        "\n",
        "total = 0\n",
        "count = 0\n",
        "\n",
        "for x in dect_1.values():\n",
        "   total+=x\n",
        "   count+=1\n",
        "avarage = total//count\n",
        "print(\"Avarage is:\",avarage)"
      ],
      "metadata": {
        "id": "czLgnuNkC_LF"
      },
      "execution_count": null,
      "outputs": []
    },
    {
      "cell_type": "markdown",
      "source": [
        "Task- 09\n",
        "Suppose there is a dictionary named exam_marks as given below.\n",
        "exam_marks = {'Cierra Vega': 175, 'Alden Cantrell': 200, 'Kierra Gentry': 165, 'Pierre Cox': 190}\n",
        "Write a Python program that takes an input from the user and creates a new dictionary with only\n",
        "those elements from 'exam_marks' whose keys have values higher than the user input\n",
        "(inclusive).\n",
        "\n",
        "================================================================\n",
        "\n",
        "Sample Input 1:170\n",
        "\n",
        "Sample Output 1:{'Cierra Vega': 175, 'Alden Cantrell': 200, 'Pierre Cox': 190}\n",
        "\n",
        "================================================================\n",
        "\n",
        "\n",
        "Sample Input 2:190\n",
        "\n",
        "Sample Output 2:{'Alden Cantrell': 200, 'Pierre Cox': 190}\n",
        "\n",
        "================================================================"
      ],
      "metadata": {
        "id": "WcRU3z7hICp1"
      }
    },
    {
      "cell_type": "code",
      "source": [
        "#todo\n",
        "exam_marks = {'Cierra Vega': 175, 'Alden Cantrell': 200, 'Kierra Gentry': 165,\n",
        "              'Pierre Cox': 190}\n",
        "n_dect = {}\n",
        "\n",
        "sample = int(input(\"enter a value:\"))\n",
        "\n",
        "for key in exam_marks:\n",
        "   if exam_marks[key] >=sample:\n",
        "       n_dect[key] = exam_marks[key]\n",
        "   \n",
        "print(n_dect)"
      ],
      "metadata": {
        "id": "JTvhEeVvIgq7",
        "colab": {
          "base_uri": "https://localhost:8080/"
        },
        "outputId": "59e33904-d0c3-4c81-d4bc-7d8f6bd2db5b"
      },
      "execution_count": null,
      "outputs": [
        {
          "output_type": "stream",
          "name": "stdout",
          "text": [
            "enter a value:175\n",
            "{'Cierra Vega': 175, 'Alden Cantrell': 200, 'Pierre Cox': 190}\n"
          ]
        }
      ]
    },
    {
      "cell_type": "markdown",
      "source": [
        "Task-10\n",
        "\n",
        "Write a Python program that finds the largest value with its key from a given dictionary.\n",
        "\n",
        "[You are not allowed to use the max() function for this task]\n",
        "\n",
        "Note: You do not need to take the dictionaries as an input from the user but your code should\n",
        "work for any given dictionary. Also, you need to handle the quotation marks as a part of the\n",
        "output.\n",
        "Hint: Think of membership operators (in and not in). You can use dictionary functions to get the values.\n",
        "\n",
        "================================================================\n",
        "\n",
        "Sample 1:\n",
        "\n",
        "Given:\n",
        "{'sci fi': 12, 'mystery': 15, 'horror': 8, 'mythology': 10, 'young_adult': 4, 'adventure':14}\n",
        "\n",
        "Output:The highest selling book genre is 'mystery' and the number of books sold are 15.\n",
        "\n",
        "================================================================\n",
        "\n",
        "Sample 2:\n",
        "\n",
        "Given:\n",
        "{'sci fi': 5, 'mystery': 3, 'horror': 14, 'young_adult': 2, 'adventure':9}\n",
        "\n",
        "Output:\n",
        "The highest selling book genre is 'horror' and the number of books sold are 14.\n",
        "\n",
        "==================================================================="
      ],
      "metadata": {
        "id": "kauw82WUOCoS"
      }
    },
    {
      "cell_type": "code",
      "source": [
        "#todo\n",
        "given = {'sci fi': 12, 'mystery': 15, 'horror': 8, 'mythology': 10, 'young_adult': 4, 'adventure':14}\n",
        "max = given[\"sci fi\"]\n",
        "genere = \"\"\n",
        "for key,value in given.items():\n",
        "   if given[key] > max:\n",
        "      max = value\n",
        "      genere += key\n",
        "   else:\n",
        "      pass\n",
        "\n",
        "\n",
        "print(f\"The highest selling book genre is '{genere}'and the number of books sold are {max}\")"
      ],
      "metadata": {
        "id": "EL5WtkZWOxe6",
        "colab": {
          "base_uri": "https://localhost:8080/"
        },
        "outputId": "f9367d2f-fb93-43b3-de2d-09998bc2115b"
      },
      "execution_count": null,
      "outputs": [
        {
          "output_type": "stream",
          "name": "stdout",
          "text": [
            "The highest selling book genre is 'mystery'and the number of books sold are 15\n"
          ]
        }
      ]
    },
    {
      "cell_type": "markdown",
      "source": [
        "Task-11\n",
        "\n",
        "Write a Python program that takes a String as an input from the user and counts the frequency\n",
        "of each character using a dictionary. For solving this problem, you may use each character as a\n",
        "key and its frequency as values.\n",
        "\n",
        "[You are not allowed to use the count() function]\n",
        "\n",
        "Hint: You can create a new dictionary to store the frequencies. You may ignore case for\n",
        "simplicity (i.e. may consider P and p to be the same).\n",
        "\n",
        "================================================================\n",
        "Sample Input:\n",
        "\"Python programming is fun\"\n",
        "\n",
        "Sample Output:{'p': 2, 'y': 1, 't': 1, 'h': 1, 'o': 2, 'n': 3, 'r': 2, 'g': 2, 'a': 1, 'm': 2, 'i': 2, 's': 1, 'f': 1, 'u': 1}\n",
        "\n",
        "================================================================"
      ],
      "metadata": {
        "id": "RFvqW_LvQ7rg"
      }
    },
    {
      "cell_type": "code",
      "source": [
        "#todo\n",
        "str_input = input().replace('\"', \"\").replace(\" \", \"\").lower()\n",
        "dict = {}\n",
        "\n",
        "for char in str_input:\n",
        "    if char in dict:\n",
        "        dict[char] += 1\n",
        "        continue\n",
        "    dict[char] = 1\n",
        "\n",
        "print(dict)"
      ],
      "metadata": {
        "id": "lh0LiJzxQw5H",
        "colab": {
          "base_uri": "https://localhost:8080/"
        },
        "outputId": "b3d3951f-d8ea-43e4-d8f9-7d569309f149"
      },
      "execution_count": 1,
      "outputs": [
        {
          "output_type": "stream",
          "name": "stdout",
          "text": [
            "Python programming is fun\n",
            "{'p': 2, 'y': 1, 't': 1, 'h': 1, 'o': 2, 'n': 3, 'r': 2, 'g': 2, 'a': 1, 'm': 2, 'i': 2, 's': 1, 'f': 1, 'u': 1}\n"
          ]
        }
      ]
    },
    {
      "cell_type": "markdown",
      "source": [
        "Task-12\n",
        "Suppose you are given the following dictionary where the values are lists.\n",
        "dict_1 = {'A': [1, 2, 3], 'b': ['1', '2'], \"c\": [4, 5, 6, 7]}\n",
        "\n",
        "Write a Python program that counts the total number of items in a dictionary’s values and prints\n",
        "it.\n",
        "[Without using sum(), len(), count() functions]\n",
        "\n",
        "Note: Make changes to the above dictionary and see if your code works properly for other\n",
        "dictionaries as well.\n",
        "\n",
        "===================================================================\n",
        "\n",
        "Output:9\n",
        "\n",
        "==================================================================="
      ],
      "metadata": {
        "id": "wG7wu5IzM0AQ"
      }
    },
    {
      "cell_type": "code",
      "source": [
        "\n",
        "dict = {\"A\": [1, 2, 3], \"b\": [\"1\", \"2\"], \"c\": [4, 5, 6, 7]}\n",
        "count = 0\n",
        "\n",
        "for key, list_value in dict.items():\n",
        "    for item in list_value:\n",
        "        count += 1\n",
        "print(count)"
      ],
      "metadata": {
        "id": "y4-FsQnSNO-A"
      },
      "execution_count": null,
      "outputs": []
    }
  ]
}