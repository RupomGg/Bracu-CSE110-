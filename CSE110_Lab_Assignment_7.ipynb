{
  "nbformat": 4,
  "nbformat_minor": 0,
  "metadata": {
    "colab": {
      "name": "22101801_MD_RADWAN_AHAMED_CSE110_Lab_Assignment_7.ipynb",
      "provenance": [],
      "collapsed_sections": []
    },
    "kernelspec": {
      "name": "python3",
      "display_name": "Python 3"
    },
    "language_info": {
      "name": "python"
    }
  },
  "cells": [
    {
      "cell_type": "code",
      "source": [
        "#Name: MD RADWAN AHAMED\n",
        "#ID : 22101801\n",
        "#Section : 34"
      ],
      "metadata": {
        "id": "AuHNKHkcMNLS"
      },
      "execution_count": 9,
      "outputs": []
    },
    {
      "cell_type": "markdown",
      "source": [
        "### **Task 1**\n",
        "\n",
        "Suppose you have a list named my_list as given below.\n",
        "\n",
        "my_list = [10, 1, 20, 3, 6, 2, 5, 11, 15, 2, 12, 14, 17, 18, 29]\n",
        "Now use bubble sort to sort my_list into ascending order.\n",
        "\n",
        "===============================================================\n",
        "\n",
        "Output:\n",
        "[1, 2, 2, 3, 5, 6, 10, 11, 12, 14, 15, 17, 18, 20, 29]\n"
      ],
      "metadata": {
        "id": "YrSSqp216wg6"
      }
    },
    {
      "cell_type": "code",
      "execution_count": null,
      "metadata": {
        "colab": {
          "base_uri": "https://localhost:8080/"
        },
        "id": "UW8tHuFv6sSn",
        "outputId": "df995383-0221-4eb2-d000-7e7dcf4c6dab"
      },
      "outputs": [
        {
          "output_type": "stream",
          "name": "stdout",
          "text": [
            "[1, 2, 2, 3, 5, 6, 10, 11, 12, 14, 15, 17, 18, 20, 29]\n"
          ]
        }
      ],
      "source": [
        "#task01\n",
        "my_list = [10, 1, 20, 3, 6, 2, 5, 11, 15, 2, 12, 14, 17, 18, 29]\n",
        "\n",
        "for i in range(len(my_list)-1):\n",
        "\n",
        "   for j in range(0,len(my_list)-1):\n",
        "\n",
        "      if my_list[j] > my_list[j+1]:\n",
        "         temp = my_list[j]\n",
        "         my_list[j] = my_list[j+1]\n",
        "         my_list[j+1] = temp\n",
        "         \n",
        "      else:\n",
        "         continue\n",
        "\n",
        "print(my_list)"
      ]
    },
    {
      "cell_type": "markdown",
      "source": [
        "### **Task 2**\n",
        "\n",
        "Suppose you have a list named my_list as given below\n",
        "\n",
        "my_list= [10, 1, 20, 3, 6, 2, 5, 11, 15, 2, 12, 14, 17, 18, 29]\n",
        "\n",
        "Now use selection sort to sort my_list into ascending order.\n",
        "\n",
        "===============================================================                 \n",
        "\n",
        "Output:\n",
        "[1, 2, 2, 3, 5, 6, 10, 11, 12, 14, 15, 17, 18, 20, 29]\n"
      ],
      "metadata": {
        "id": "IVVu7hOZ77BE"
      }
    },
    {
      "cell_type": "code",
      "source": [
        "#task02\n",
        "\n",
        "my_list= [10, 1, 20, 3, 6, 2, 5, 11, 15, 2, 12, 14, 17, 18, 29]\n",
        "\n",
        "for i in range(0,len(my_list)-1):\n",
        "    value = my_list[i]\n",
        "    index = i\n",
        "    for j in range(i + 1,len(my_list)): #draft\n",
        "       if my_list[j] < value:\n",
        "          value = my_list[j]\n",
        "          index = j\n",
        "    x = value\n",
        "    my_list[index] = my_list[i]\n",
        "    my_list[i] = x\n",
        "\n",
        "print(my_list)\n"
      ],
      "metadata": {
        "id": "RI1FvQOa8PmP",
        "colab": {
          "base_uri": "https://localhost:8080/"
        },
        "outputId": "c9e8a0e8-e4e3-4f1d-957a-26574cf9a5c6"
      },
      "execution_count": null,
      "outputs": [
        {
          "output_type": "stream",
          "name": "stdout",
          "text": [
            "[1, 2, 2, 3, 5, 6, 10, 11, 12, 14, 15, 17, 18, 20, 29]\n"
          ]
        }
      ]
    },
    {
      "cell_type": "code",
      "source": [
        ""
      ],
      "metadata": {
        "id": "oUoRF87VMKCJ"
      },
      "execution_count": null,
      "outputs": []
    },
    {
      "cell_type": "markdown",
      "source": [
        "Task 3\n",
        "\n",
        "Suppose you have a list named my_list as given below.\n",
        "\n",
        "my_list = [10, 1, 20, 3, 6, 2, 5, 11, 15, 2, 12, 14, 17, 18, 29]\n",
        "\n",
        "Now use any of the two sorting techniques you have used above to sort the list in descending order.\n",
        "\n",
        "===============================================================\n",
        "\n",
        "Output:\n",
        "[29, 20, 18, 17, 15, 14, 12, 11, 10, 6, 5, 3, 2, 2, 1]\n"
      ],
      "metadata": {
        "id": "RsyWI7Tj8RuH"
      }
    },
    {
      "cell_type": "code",
      "source": [
        "#task03\n",
        "\n",
        "my_list = [10, 1, 20, 3, 6, 2, 5, 11, 15, 2, 12, 14, 17, 18, 29]\n",
        "\n",
        "for i in range(len(my_list)-1):\n",
        "\n",
        "   for j in range(0,len(my_list)-1):\n",
        "\n",
        "      if my_list[j] < my_list[j+1]:\n",
        "         temp = my_list[j]\n",
        "         my_list[j] = my_list[j+1]\n",
        "         my_list[j+1] = temp\n",
        "         \n",
        "      else:\n",
        "         continue\n",
        "\n",
        "print(my_list)"
      ],
      "metadata": {
        "id": "7rIhW9bf8tz8",
        "colab": {
          "base_uri": "https://localhost:8080/"
        },
        "outputId": "61cc484e-8c8a-472e-e325-2b9b364322b9"
      },
      "execution_count": null,
      "outputs": [
        {
          "output_type": "stream",
          "name": "stdout",
          "text": [
            "[29, 20, 18, 17, 15, 14, 12, 11, 10, 6, 5, 3, 2, 2, 1]\n"
          ]
        }
      ]
    },
    {
      "cell_type": "markdown",
      "source": [
        "### **Task 4**\n",
        "Suppose you have a sitting arrangement of the students who will give the final exam in a list. The list contains the last two digits of their student ID as given below.\n",
        "sitting_list = [10,30,20,70,11,15,22,16,58,100,12,56,70,80]\n",
        "\n",
        "Now you want to organize the sitting arrangement of the students in your own way. You decide to sort all the students in the even indices of the list in ascending order and all the students in the odd indices of the list in descending order.\n",
        "\n",
        "So, write a python program that organizes the list for you in this way.\n",
        "\n",
        "===============================================================\n",
        "\n",
        "Output:\n",
        "[10, 100, 11, 80, 12, 70, 20, 56, 22, 30, 58, 16, 70, 15]\n",
        " \n",
        "\n",
        "\n"
      ],
      "metadata": {
        "id": "CPv2qBFJ8vZO"
      }
    },
    {
      "cell_type": "code",
      "source": [
        "#task04\n",
        "\n",
        "sitting_list = [10, 30, 20, 70, 11, 15, 22, 16, 58, 100, 12, 56, 70, 80]\n",
        "\n",
        "for i in range(len(sitting_list) - 1):\n",
        "\n",
        "    if i % 2 == 0:\n",
        "\n",
        "        for j in range(len(sitting_list) - 2-i):\n",
        "\n",
        "            if sitting_list[j] < sitting_list[j + 2]:\n",
        "                temp = sitting_list[j]\n",
        "                sitting_list[j] = sitting_list[j + 2]\n",
        "                sitting_list[j + 2] = temp\n",
        "                \n",
        "            else:\n",
        "                continue\n",
        "    else:\n",
        "\n",
        "        for j in range(len(sitting_list) - 2-i):\n",
        "\n",
        "            if sitting_list[j] > sitting_list[j + 2]:\n",
        "                temp = sitting_list[j]\n",
        "                sitting_list[j] = sitting_list[j + 2]\n",
        "                sitting_list[j + 2] = temp\n",
        "                \n",
        "            else:\n",
        "                continue\n",
        "\n",
        "\n",
        "print(sitting_list)\n"
      ],
      "metadata": {
        "id": "MJ_MwtHO9Fs0"
      },
      "execution_count": null,
      "outputs": []
    },
    {
      "cell_type": "markdown",
      "source": [
        "### **Task 5**\n",
        "Suppose a list contains marks earned in the courses CSE110, PHY111, and MAT110 of each student consecutively in a nested list form. Your task is to take a course name as input from the user and sort the list based on the marks obtained in that course to finally print the names of the students in descending order of marks obtained i.e. from the student who earned the highest marks to the student who earned the lowest.\n",
        "For example, the list may look like\n",
        "\n",
        "lst = [ [\"Alan\", 95, 87, 91], [\"Turing\", 92, 90, 83], [\"Elon\", 87, 92, 80], [\"Musk\", 85, 94, 90] ]\n",
        "where for each nested list, 1st index holds the name of the student, 2nd index is total marks earned in the CSE110 course, 3rd index is PHY111 marks and 4th index is MAT110 marks.\n",
        "\n",
        "===============================================================\n",
        "\n",
        "Hint:\n",
        "You may create a function for sorting, then call it whenever needed instead of rewriting the code.\n",
        "You may get the data in the individual lists from the given nested list.\n",
        "\n",
        "===============================================================\n",
        "\n",
        "Sample Input 1 \n",
        "MAT110\n",
        "\n",
        "Sample Output 1\n",
        "\n",
        "Alan\n",
        "\n",
        "Musk\n",
        "\n",
        "Turing\n",
        "\n",
        "Elon\n",
        "\n",
        "Explanation:\n",
        "\n",
        "Here the user gives us \"MAT110\" as the course name. Now, the students Alan, Turing, Elon, and Musk earned 91, 83, 80, and 90 marks respectively in this course. If we sort it, Alan got the highest marks of 91 followed by Musk with 90 marks and Turing with 83 marks. Among these 4 students, Elon obtained the lowest marks in the MAT110 course with 80 marks. All of these have been illustrated in our sample output.\n",
        "\n",
        "===============================================================\n",
        "\n",
        "Sample Input 2\n",
        "PHY111\n",
        "Sample Output 2\n",
        "\n",
        "Musk\n",
        "\n",
        "Elon\n",
        "\n",
        "Turing\n",
        "\n",
        "Alan\n",
        "\n"
      ],
      "metadata": {
        "id": "a3loe9YS9Ib7"
      }
    },
    {
      "cell_type": "code",
      "source": [
        "# task05\n",
        "\n",
        "lst = [[\"Alan\", 95, 87, 91], [\"Turing\", 92, 90, 83], [\"Elon\", 87, 92, 80],\n",
        "       [\"Musk\", 85, 94, 90]]\n",
        "\n",
        "sample = input(\"Enter course code:\").upper()\n",
        "topic = 0\n",
        "\n",
        "if sample == \"CSE110\":\n",
        "    topic = 1\n",
        "elif sample == \"PHY111\":\n",
        "    topic = 2\n",
        "elif sample == \"MAT110\":\n",
        "    topic = 3\n",
        "\n",
        "for i in range(len(lst)):\n",
        "    maxx = i\n",
        "    for j in range(i + 1, len(lst)):\n",
        "        if lst[j][topic] > lst[maxx][topic]:\n",
        "            maxx = j\n",
        "\n",
        "        val = lst[maxx]\n",
        "        lst[maxx] = lst[i]\n",
        "        lst[i] = val\n",
        "\n",
        "for element in lst:\n",
        "    print(element[0])"
      ],
      "metadata": {
        "id": "7gKOi1Sc9z4_",
        "colab": {
          "base_uri": "https://localhost:8080/"
        },
        "outputId": "f65b98f6-1f00-4120-f76d-758bbc75e74c"
      },
      "execution_count": null,
      "outputs": [
        {
          "output_type": "stream",
          "name": "stdout",
          "text": [
            "Enter course code:phy111\n",
            "Musk\n",
            "Elon\n",
            "Turing\n",
            "Alan\n"
          ]
        }
      ]
    },
    {
      "cell_type": "markdown",
      "source": [
        "### **Task 6**\n",
        "Suppose you have a list named my_list as given below. Your task is to sort the list in ascending order and print the count of numbers that have changed their positions in the process of sorting.\n",
        "\n",
        "my_list = [4, 2, 3, 1, 6, 5]\n",
        "\n",
        "The sorted list would be [1, 2, 3, 4, 5, 6] where 4 numbers (4, 1, 6, and 5) have changed their positions. Therefore our sample output here would be 4. Please check if your code is working correctly by changing the above list and using the knowledge given here to verify whether your code gives the correct output for all different lists.\n",
        "\n",
        "**Sample Output for the above list**\n",
        "\n",
        "4\n"
      ],
      "metadata": {
        "id": "Ki0_OR6kAZLN"
      }
    },
    {
      "cell_type": "code",
      "source": [
        "#TASK06\n",
        "my_list = [4, 2, 3, 1, 6, 5]\n",
        "a_list = my_list.copy()\n",
        "count = 0\n",
        "\n",
        "for i in range(len(a_list)-1):\n",
        "   for j in range(0,len(a_list)-1):\n",
        "\n",
        "      if a_list[j] > a_list[j+1]:       \n",
        "         temp = a_list[j]        \n",
        "         a_list[j] = a_list[j+1]       \n",
        "         a_list[j+1] = temp   \n",
        "      else:\n",
        "         continue\n",
        "for x in range(len(a_list)):\n",
        "    if a_list[x] != my_list[x]:\n",
        "        count+=1\n",
        "print(count)\n"
      ],
      "metadata": {
        "id": "wpvtAqTdAksR",
        "colab": {
          "base_uri": "https://localhost:8080/"
        },
        "outputId": "9d9084c9-c661-4c84-e708-44bda5959506"
      },
      "execution_count": 8,
      "outputs": [
        {
          "output_type": "stream",
          "name": "stdout",
          "text": [
            "4\n"
          ]
        }
      ]
    },
    {
      "cell_type": "markdown",
      "source": [
        "### **Task 7**\n",
        "\n",
        "Write a python program that takes two lists from the user, merges the two lists, sorts the resulting list, and then finds the median of the elements in the two lists.\n",
        "\n",
        "=====================================================\n",
        "\n",
        "Sample Input 1 **bold text**\n",
        "\n",
        "list_one = [1, 2, 1, 4]\n",
        "\n",
        "list_two = [5, 4, 1]\n",
        "\n",
        "**Sample Output 1**\n",
        "\n",
        "Sorted list = [1, 1, 1, 2, 4, 4, 5]\n",
        "Median = 2\n",
        "\n",
        "=====================================================\n",
        "\n",
        "**Sample Input 2**\n",
        "\n",
        "list_one = [1, 7, 9, 10]\n",
        "\n",
        "list_two = [2, 7, 6, 5]\n",
        "\n",
        "**Sample Output 2**\n",
        "\n",
        "Sorted list = [1, 2, 5, 6, 7, 7, 9, 10]\n",
        "\n",
        "Median = 6.5\n"
      ],
      "metadata": {
        "id": "I6P_8Cg7BBPx"
      }
    },
    {
      "cell_type": "code",
      "source": [
        "# task07\n",
        "\n",
        "a_list = [int(x) for x in input(\"Enter a list:\")[1:-1].split(', ')]\n",
        "b_list = [int(x) for x in input(\"Enter a list:\")[1:-1].split(', ')]\n",
        "for i in b_list:\n",
        "    a_list.append(i)\n",
        "\n",
        "for i in range(len(a_list) - 1):\n",
        "\n",
        "    for j in range(0, len(a_list) - 1):\n",
        "\n",
        "        if a_list[j] > a_list[j + 1]:\n",
        "            temp = a_list[j]\n",
        "            a_list[j] = a_list[j + 1]\n",
        "            a_list[j + 1] = temp\n",
        "\n",
        "        else:\n",
        "            continue\n",
        "\n",
        "print(\"Sorted List:\", a_list)\n",
        "\n",
        "if len(a_list) % 2 == 0:\n",
        "    m1 = len(a_list) // 2\n",
        "    m2 = m1 - 1\n",
        "    median = (a_list[m1] + a_list[m2]) / 2\n",
        "else:\n",
        "    m = int((len(a_list)-1) / 2)\n",
        "    median = a_list[m]\n",
        "\n",
        "print(\"Median =\", median)"
      ],
      "metadata": {
        "id": "I5-HJBA0e-pl",
        "colab": {
          "base_uri": "https://localhost:8080/"
        },
        "outputId": "c4879e94-0cb8-4e28-842d-64c21e9b984a"
      },
      "execution_count": 6,
      "outputs": [
        {
          "output_type": "stream",
          "name": "stdout",
          "text": [
            "Enter a list:[1, 2, 1, 4]\n",
            "Enter a list:[5, 4, 1]\n",
            "Sorted List: [1, 1, 1, 2, 4, 4, 5]\n",
            "Median = 2\n"
          ]
        }
      ]
    },
    {
      "cell_type": "markdown",
      "source": [
        "### **Task 8**\n",
        "\n",
        "Write a python program that takes a list from a user containing both positive and negative numbers. The program then finds two pairs of values whose summation is closest to zero.\n",
        "\n",
        "=====================================================\n",
        "\n",
        "**Sample Input 1**\n",
        "\n",
        "list_one = [-10, 15, 2, 4, -4, 7, -8]\n",
        "\n",
        "**Sample Output 1**\n",
        "\n",
        "Two pairs which have the smallest sum = 4 and -4\n",
        "\n",
        "=====================================================\n",
        "\n",
        "**Sample Input 2**\n",
        "\n",
        "list_one = [1, -8, 4, -7, -20, 26, 70, -85]\n",
        "\n",
        "**Sample Output 2**\n",
        "\n",
        "Two pairs which have the smallest sum = 4 and -7\n"
      ],
      "metadata": {
        "id": "cQ5cf24oCj-m"
      }
    },
    {
      "cell_type": "code",
      "source": [
        "# task08\n",
        "\n",
        "a_list = [int(x) for x in input(\"Enter a list:\")[1:-1].split(', ')]\n",
        "\n",
        "minimum = abs(a_list[0] + a_list[1])\n",
        "small = 0\n",
        "big = 1\n",
        "\n",
        "for i in range(len(a_list) - 1):\n",
        "    for j in range(i + 1, len(a_list)):\n",
        "        if abs(a_list[i] + a_list[j]) < minimum:\n",
        "            minimum = abs(a_list[i] + a_list[j])\n",
        "            small = a_list[i]\n",
        "            big = a_list[j]\n",
        "\n",
        "print(\"Two pairs which have the smallest sum =\", small, \"and\", big)\n"
      ],
      "metadata": {
        "id": "byejUmRNDO6k"
      },
      "execution_count": null,
      "outputs": []
    },
    {
      "cell_type": "markdown",
      "source": [
        "### **Task 9**\n",
        "You will be given a list of tuples where each tuple indicates a point i.e. (x, y) in a 2-dimensional coordinate system. \n",
        "You need to write a python program to find the minimum distance and the point that is closest to the origin i.e. (0,0)\n",
        "\n",
        "=====================================================\n",
        "\n",
        "**Hint:** \n",
        "The formula of distance = √((Δx)2+(Δy)2)\n",
        "As you are calculating the distance from the origin (0,0), you can simply use \n",
        "distance = √(x2+y2)\n",
        "You can create a list of distances from each point and sort that list using your personal favorite sorting algorithm.\n",
        "\n",
        "=====================================================\n",
        "\n",
        "**Sample Input 1** \n",
        "\n",
        "points = [(5,3), (2,9), (-2,7), (-3,-4), (0,6), (7,-2)]\n",
        "\n",
        "**Sample Output 1**\n",
        "\n",
        "Minimum distance = 5.0\n",
        "\n",
        "Here the closest point is (-3,-4) which has a distance of 5.0 from the origin.\n",
        "\n",
        "=====================================================\n",
        "\n",
        "**Sample Input 2**\n",
        "\n",
        "points = [(1,7), (4,5), (-1,7), (-2,0), (1,1), (5,-1)]\n",
        "\n",
        "**Sample Output 2**\n",
        "\n",
        "Minimum distance = 1.4142135623730951\n",
        "\n",
        "Here the closest point is (1,1) which has a distance of 1.4142135623730951 from the origin.\n"
      ],
      "metadata": {
        "id": "d5fF7d_4DQZc"
      }
    },
    {
      "cell_type": "code",
      "source": [
        "#task09\n",
        "# task09\n",
        "import math\n",
        "def distance(sample):\n",
        "    x, y = sample\n",
        "    displacement = math.sqrt(pow(x, 2) + pow(y, 2))\n",
        "    return displacement\n",
        "\n",
        "points = [(5, 3), (2, 9), (-2, 7), (-3, -4), (0, 6), (7, -2)]\n",
        "min_sample = points[0]\n",
        "minimum = distance(min_sample)\n",
        "for x in points:\n",
        "    spatium = distance(x)\n",
        "    if spatium < minimum:\n",
        "        minimum = spatium\n",
        "        min_sample = x\n",
        "\n",
        "print(f\"Minimum distance = {minimum}\")\n",
        "print(f\"Here the closest point is{min_sample}which has a distance of {minimum} from the origin\")\n"
      ],
      "metadata": {
        "id": "qguOvrYqD0ye"
      },
      "execution_count": null,
      "outputs": []
    }
  ]
}