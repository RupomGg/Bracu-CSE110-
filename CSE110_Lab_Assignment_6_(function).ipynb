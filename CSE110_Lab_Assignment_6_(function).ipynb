{
  "cells": [
    {
      "cell_type": "markdown",
      "metadata": {
        "id": "aKUUyB2SCHet"
      },
      "source": [
        "# **Task 1**\n",
        "\n",
        "Write a function called even_checker that takes a number as an argument and prints whether\n",
        "the number is even or odd inside the function.\n",
        "\n",
        "===================================================================\n",
        "\n",
        "Example 1:\n",
        "\n",
        "Function Call:\n",
        "even_checker(5)\\\n",
        "\n",
        "Output:\n",
        "Odd!!\n",
        "\n",
        "===================================================================\n",
        "\n",
        "Example2:\n",
        "\n",
        "Function Call:\n",
        "even_checker(2)\n",
        "\n",
        "Output:\n",
        "Even!!"
      ]
    },
    {
      "cell_type": "code",
      "execution_count": null,
      "metadata": {
        "colab": {
          "base_uri": "https://localhost:8080/"
        },
        "id": "OzN_jNYMB4Pg",
        "outputId": "1f1f83a0-4b5f-4331-97b8-517130f72a16"
      },
      "outputs": [
        {
          "name": "stdout",
          "output_type": "stream",
          "text": [
            "Even!!\n"
          ]
        }
      ],
      "source": [
        "#task1\n",
        "def even_checker(num):\n",
        "   if num % 2 == 0:\n",
        "      print(\"Even!!\")\n",
        "   else:\n",
        "      print(\"Odd!!\")\n",
        "    \n",
        "even_checker(4)"
      ]
    },
    {
      "cell_type": "markdown",
      "metadata": {
        "id": "WqYCmOEMDJum"
      },
      "source": [
        "### **Task 2**\n",
        "\n",
        "Write a python function that takes the limit as an argument of the Fibonacci series and prints till\n",
        "that limit.\n",
        "\n",
        "===================================================================\n",
        "\n",
        "Function Call:fibonacci(10)\n",
        "\n",
        "Output:\n",
        "0 1 1 2 3 5 8\n",
        "\n",
        "===================================================================\n",
        "\n",
        "Function Call:\n",
        "fibonacci(5)\n",
        "\n",
        "Output:\n",
        "0 1 1 2 3 5\n",
        "\n",
        "Task"
      ]
    },
    {
      "cell_type": "code",
      "execution_count": null,
      "metadata": {
        "colab": {
          "background_save": true,
          "base_uri": "https://localhost:8080/"
        },
        "id": "G_bJvUJjDcXg",
        "outputId": "ee36e8b3-6450-4eb5-d5e6-ecafbc0c106b"
      },
      "outputs": [
        {
          "name": "stdout",
          "output_type": "stream",
          "text": [
            "0 1 1 2 3 5 8 "
          ]
        }
      ],
      "source": [
        "#task-02\n",
        "def fibonacci(num):\n",
        "   a = 0\n",
        "   b = 1\n",
        "   total = 0\n",
        "   count = 1\n",
        "   while count <= num+1:\n",
        "     if total <= num:\n",
        "       print(total, end=\" \")\n",
        "       #count += 1\n",
        "       a = b\n",
        "       b = total\n",
        "       total = a + b\n",
        "       count+=1\n",
        "\n",
        "fibonacci(10)"
      ]
    },
    {
      "cell_type": "markdown",
      "metadata": {
        "id": "wxdSdkxyDsea"
      },
      "source": [
        "### **Task-3**\n",
        "Write a function called foo_moo that takes a number as an argument and returns the following statements according to the below mentioned conditions. Then, finally prints the statement in the function call.\n",
        "\n",
        "If the number is divisible by 2, it should return \"Foo\".                            \n",
        "If the number is divisible by 3, it should return \"Moo\".                               \n",
        "If the number is divisible by both 2 and 3, it should return \"FooMoo\".                   \n",
        "Otherwise, it returns \"Boo\".                                                     \n",
        "Example1:                                                                        \n",
        "Function Call:\n",
        "foo_moo(5)                                                                             \n",
        "Output:\n",
        "Boo\n",
        "\n",
        "===================================================================                         \n",
        "Example2:                                                                          \n",
        "Function Call:\n",
        "foo_moo(4)                                                                      \n",
        "Output:                                                                        Foo\n",
        "\n",
        "===================================================================                  \n",
        "Example3:                                                                        \n",
        "Function Call:\n",
        "foo_moo(6)                                                                       \n",
        "Output:\n",
        "FooMoo\n"
      ]
    },
    {
      "cell_type": "code",
      "execution_count": null,
      "metadata": {
        "id": "3yY3q0sRFZNO"
      },
      "outputs": [],
      "source": [
        "#task-03\n",
        "def foo_moo(num):\n",
        "    if num % 2 == 0 and num % 3 == 0:\n",
        "        return \"FooMoo\"\n",
        "    elif num % 2 == 0:\n",
        "        return \"Foo\"\n",
        "    elif num % 3 == 0:\n",
        "        return \"Moo\"\n",
        "    else:\n",
        "        return \"Boo\"\n",
        "\n",
        "\n",
        "print(foo_moo(5))"
      ]
    },
    {
      "cell_type": "markdown",
      "metadata": {
        "id": "L1r0SelFG-HE"
      },
      "source": [
        "### **Task-4**\n",
        "Write a python function that takes a string as an argument. Your task is to calculate the number of uppercase letters and lowercase letters and print them in the function. \n",
        "\n",
        "===================================================================                  \n",
        "Function Call:\n",
        "function_name('The quick Sand Man')\n",
        "Output:                                                                          \n",
        "No. of Uppercase characters : 3                                                    \n",
        "No. of Lowercase Characters: 12     \n",
        "\n",
        "===================================================================                 \n",
        "Function Call:\n",
        "function_name('HaRRy PotteR')\n",
        "Output:                                                                                 \n",
        "No. of Uppercase characters : 5                                                     \n",
        "No. of Lowercase Characters: 6\n"
      ]
    },
    {
      "cell_type": "code",
      "execution_count": null,
      "metadata": {
        "id": "_RpJOr7kG9Th"
      },
      "outputs": [],
      "source": [
        "#task-4\n",
        "user_str = input(\"Enter a String:\")\n",
        "\n",
        "\n",
        "def case_dect(n):\n",
        "    upper = 0\n",
        "    lower = 0\n",
        "    for i in n:\n",
        "        if 96 < ord(i) < 123:\n",
        "            lower += 1\n",
        "        elif 64 < ord(i) < 91:\n",
        "            upper += 1\n",
        "        else:\n",
        "            continue\n",
        "\n",
        "    print(\"No. of Uppercase characters :\", upper)\n",
        "    print(\"No. of Lowercase characters :\", lower)\n",
        "\n",
        "\n",
        "print(case_dect(user_str))\n"
      ]
    },
    {
      "cell_type": "markdown",
      "metadata": {
        "id": "c3BEKFUMLLZR"
      },
      "source": [
        "### **Task -05**\n",
        "Write a function called calculate_tax that takes 3 arguments: your age, salary, and current job designation.                                                       \n",
        "Your first task is to take these arguments as user input and pass these values to the function.\n",
        "\n",
        "Your second task is to implement the function and calculate the tax as the following conditions:\n",
        "\n",
        "NO TAX IF YOU ARE LESS THAN 18 YEARS OLD.     \n",
        "\n",
        "NO TAX IF YOU ARE THE PRESIDENT OF THE COMPANY      \n",
        "\n",
        "No tax if you get paid less than 10,000      \n",
        "\n",
        "5% tax if you get paid between 10K and 20K        \n",
        "\n",
        "10% tax if you get paid more than 20K\n",
        "\n",
        "Finally return this tax value. Then print the returned value in the function call.\n",
        "\n",
        "Hints: Here the job designation is a string, so it can be written in both uppercase and lower cases. So, you need to check the value ignoring the case.    \n",
        "\n",
        "**===================================================================     **            \n",
        "Example1:                                                                        \n",
        "Input:                                                                             \n",
        "16\n",
        "20000\n",
        "Student                                                                            \n",
        "Function Call:\n",
        "calculate_tax(16, 20000, 'Student')                                                       \n",
        "Output:\n",
        "0\n",
        "\n",
        "===================================================================               \n",
        "Example2: \n",
        "\n",
        "Input:\n",
        "20\n",
        "18000\n",
        "assistant manager                                                                \n",
        "Function Call:\n",
        "calculate_tax(20, 18000, 'assistant manager')                                          \n",
        "Output:\n",
        "900.0\n",
        "\n",
        "===================================================================                \n",
        "\n",
        "Example3:                                                                        \n",
        "Input:\n",
        "20\n",
        "22000\n",
        "assistant manager\n",
        "Function Call:\n",
        "calculate_tax(20, 22000, 'Assistant manager')                                    \n",
        "Output:\n",
        "2200.0  \n",
        "\n",
        "===================================================================                        \n",
        "Example4: \n",
        "\n",
        "Input:\n",
        "20\n",
        "122000\n",
        "president                                                                           \n",
        "Function Call:\n",
        "calculate_tax(20, 122000, 'president')                                                \n",
        "Output:\n",
        "0\n"
      ]
    },
    {
      "cell_type": "code",
      "execution_count": null,
      "metadata": {
        "id": "95gW6_KUMrlf"
      },
      "outputs": [],
      "source": [
        "#task-05\n",
        "def calculate_tax(age, salary, job):\n",
        "    if age < 18 or job == \"president\" or salary < 10000:\n",
        "        return \"NO TAX\"\n",
        "    elif 10000 < salary < 20000:\n",
        "        return (5 / 100) * salary\n",
        "    else:\n",
        "        return (10 / 100) * salary\n",
        "\n",
        "\n",
        "age = int(input(\"Enter the age:\"))\n",
        "salary = int(input(\"Enter the Salary:\"))\n",
        "job = input(\"Enter your job  designation:\").lower()\n",
        "\n",
        "print(calculate_tax(age, salary, job))"
      ]
    },
    {
      "cell_type": "markdown",
      "source": [
        "### **Task-6**\n",
        "Write a function which will take 1 argument, number of days.                     \n",
        "Your first task is to take the number of days as user input and pass the value to the function.                                                                 \n",
        "Your second task is to implement the function and calculate the total number of years, number of months, and the remaining number of days as output. No need to return any value, print inside the function. \n",
        "\n",
        "Note: Assume, each year to be 365 days and month to be 30 days.                      \n",
        "Hint(1): Divide and mod the main input to get the desired output.                \n",
        "Hint(2): This task’s calculation is similar to Assignment-1’s seconds to hours, minutes conversion.\n",
        "\n",
        "Example01                                                                        \n",
        "Input:\n",
        "4330                                                                             \n",
        "Function Call:\n",
        "function_name(4330)                                                                 \n",
        "Output:\n",
        "11 years, 10 months and 15 days\n",
        "\n",
        "===================================================================                   \n",
        "Example02                                                                           \n",
        "Input:\n",
        "2250                                                                                 \n",
        "Function Call:\n",
        "function_name(2250)                                                                   \n",
        "Output:\n",
        "6 years, 2 months and 0 days\n"
      ],
      "metadata": {
        "id": "0fjgnHCP-229"
      }
    },
    {
      "cell_type": "code",
      "source": [
        "#task-06\n",
        "days = int(input(\"Enter the ammount of days:\"))\n",
        "\n",
        "\n",
        "def day_count(d):\n",
        "    years = 0\n",
        "    months = 0\n",
        "    day = 0\n",
        "\n",
        "    years = years + (d // 365)\n",
        "    months = months + ((d % 365) // 30)\n",
        "    day = day + ((d % 365) % 30)\n",
        "    print(years, \"years\", months, \"months\", day, \"days\")\n",
        "\n",
        "\n",
        "day_count(days)"
      ],
      "metadata": {
        "id": "yfilbrC_Czit"
      },
      "execution_count": null,
      "outputs": []
    },
    {
      "cell_type": "markdown",
      "source": [
        "### **Task 7**\n",
        "\n",
        "Write a function called show_palindrome that takes a number as an argument and then returns a palindrome string. Finally, prints the returned value in the function call.\n",
        "\n",
        "Example1:  \n",
        "Function Call:\n",
        "show_palindrome(5)                                                               \n",
        "Output:\n",
        "123454321\n",
        "\n",
        "===================================================================                    \n",
        "Example2:                                                                         \n",
        "Function Call:\n",
        "show_palindrome(3)                                                                    \n",
        "Output:\n",
        "12321\n"
      ],
      "metadata": {
        "id": "dShi5VcBC1CQ"
      }
    },
    {
      "cell_type": "code",
      "source": [
        "#task-07\n",
        "def show_palindrome(num):\n",
        "  \n",
        "   a_string=\"\"\n",
        "   for i in range(num + 1):\n",
        "      a_string = a_string + str(i)\n",
        "   b_string = a_string[(num-1):0:1]\n",
        "   new_string = a_string + b_string\n",
        "   return int(new_string)\n",
        "\n",
        "\n",
        "show_palindrome(5)"
      ],
      "metadata": {
        "id": "hPiMKhRbDKXi",
        "colab": {
          "base_uri": "https://localhost:8080/"
        },
        "outputId": "df5f3a71-4001-4cc8-a186-2133234d12cc"
      },
      "execution_count": null,
      "outputs": [
        {
          "output_type": "execute_result",
          "data": {
            "text/plain": [
              "12345"
            ]
          },
          "metadata": {},
          "execution_count": 4
        }
      ]
    },
    {
      "cell_type": "markdown",
      "source": [
        "Write a function called show_palindromic_triangle that takes a number as an argument and prints a Palindromic Triangle in the function. \n",
        "\n",
        "[Must reuse the show_palindrome() function of the previous task] \n",
        "\n",
        "===================================================================                \n",
        "Hints(1): \n",
        "Need to use both print() and print( , end = \" \") functions\n",
        "\n",
        "===================================================================              \n",
        "Example1:\n",
        "\n",
        "Function Call:\n",
        "show_palindromic_triangle(5)\n",
        "\n",
        "output:\n",
        "\n",
        "![Screenshot 2022-04-20 010404.png](data:image/png;base64,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)\n"
      ],
      "metadata": {
        "id": "9M-1RNRHNK8l"
      }
    },
    {
      "cell_type": "code",
      "source": [
        "#task08\n",
        "def triangle_palindromic (num):\n",
        "   for i in range (1 , num+1):\n",
        "      space = num - i\n",
        "      for j  in range(space):\n",
        "         print(\" \" , end = \" \")\n",
        "\n",
        "      def triangle_palindromie (num):\n",
        "         for i in range(num):\n",
        "            print(i + 1 , end = \" \")\n",
        "         for i in range (num , 1 , -1):\n",
        "            print(i - 1 , end = \" \")\n",
        "\n",
        "      triangle_palindromie(i)\n",
        "      print(\" \")\n",
        "\n",
        "triangle_palindromic(5)\n",
        "  \n",
        "  \n"
      ],
      "metadata": {
        "id": "KdtmYUPoNBnr",
        "colab": {
          "base_uri": "https://localhost:8080/"
        },
        "outputId": "2973e710-14cb-466f-c8b7-fe857a8f4a56"
      },
      "execution_count": null,
      "outputs": [
        {
          "output_type": "stream",
          "name": "stdout",
          "text": [
            "        1  \n",
            "      1 2 1  \n",
            "    1 2 3 2 1  \n",
            "  1 2 3 4 3 2 1  \n",
            "1 2 3 4 5 4 3 2 1  \n"
          ]
        }
      ]
    },
    {
      "cell_type": "markdown",
      "source": [
        "### **Task-09**\n",
        "\n",
        "Write a function called area_circumference_generator that takes a radius of a circle as a function parameter and calculates its circumference and area. Then returns these two results as a tuple and prints the results using tuple unpacking in the function call according to the given format. \n",
        "[Must use tuple packing & unpacking] \n",
        "\n",
        "===================================================================\n",
        "\n",
        "Example1: \n",
        "Function Call:\n",
        "area_circumference_generator(1)\n",
        "\n",
        "Output:\n",
        "(3.141592653589793, 6.283185307179586)\n",
        "\n",
        "Area of the circle is 3.141592653589793 and circumference is 6.283185307179586\n",
        "\n"
      ],
      "metadata": {
        "id": "7Z2butCQzz3n"
      }
    },
    {
      "cell_type": "code",
      "source": [
        "#task09\n",
        "def area_circumference_generator(r):\n",
        "    import math\n",
        "    area = math.pi * r ** 2\n",
        "    circumference = 2 * math.pi * r\n",
        "    a_tupple = (area, circumference)\n",
        "    ar, cr = a_tupple\n",
        "    return area, circumference\n",
        "\n",
        "\n",
        "d = area_circumference_generator(1.5)\n",
        "print(d)\n",
        "ar, cr = d\n",
        "print(\"the area is {0} and the circumference is {1}\".format(ar, cr))"
      ],
      "metadata": {
        "colab": {
          "base_uri": "https://localhost:8080/"
        },
        "id": "lqNz4EYsz8Ps",
        "outputId": "291bbae4-3fb4-44a7-85b4-70e025b946ce"
      },
      "execution_count": null,
      "outputs": [
        {
          "output_type": "stream",
          "name": "stdout",
          "text": [
            "(7.0685834705770345, 9.42477796076938)\n",
            "the area is 7.0685834705770345 and the circumference is 9.42477796076938\n"
          ]
        }
      ]
    },
    {
      "cell_type": "markdown",
      "source": [
        "### **Task-10**\n",
        "\n",
        "Write a function called make_square that takes a tuple in the parameter as a range of numbers (starting point and ending point (included)). The function should return a dictionary with the numbers as keys and its squares as values.\n",
        "\n",
        "================================================================\n",
        "Hints: \n",
        "You need to declare a dictionary to store the result. You should use the range function to run the “for loop”.\n",
        "\n",
        "================================================================\n",
        "\n",
        "Example1: \n",
        "Function Call:\n",
        "make_square((1,3))\n",
        "\n",
        "Output:\n",
        "{1: 1, 2: 4, 3: 9}\n",
        "\n",
        "================================================================\n",
        "\n",
        "Example2: \n",
        "\n",
        "Function Call:\n",
        "make_square((5,9))\n",
        "\n",
        "Output:\n",
        "{5: 25, 6: 36, 7: 49, 8: 64, 9: 81}\n"
      ],
      "metadata": {
        "id": "YVbpvp9S8jX3"
      }
    },
    {
      "cell_type": "code",
      "source": [
        "#task-10\n",
        "def make_square(starting,ending):\n",
        "   a_dict={}\n",
        "   for i in range(starting,ending+1):\n",
        "      a_dict[i] = i ** 2\n",
        "   return a_dict\n",
        "make_square(5,9)\n"
      ],
      "metadata": {
        "colab": {
          "base_uri": "https://localhost:8080/"
        },
        "id": "ovqos9zN8hY6",
        "outputId": "53572131-8ce2-4eac-ccd8-c7b13157dff9"
      },
      "execution_count": null,
      "outputs": [
        {
          "output_type": "stream",
          "name": "stdout",
          "text": [
            "{5: 25, 6: 36, 7: 49, 8: 64, 9: 81}\n"
          ]
        }
      ]
    },
    {
      "cell_type": "markdown",
      "source": [
        "### **Task-11**\n",
        "Write a function called rem_duplicate that takes a tuple in the parameter and return a tuple removing all the duplicate values. Then print the returned tuple in the function call. \n",
        "\n",
        "[Cannot use remove() or removed() for this task]  \n",
        "\n",
        "\n",
        "================================================================ \n",
        "\n",
        "**Hints: **\n",
        "Unlike lists, tuples are immutable, so the tuple taken as an argument cannot be modified. But the list can be modified and lastly for returning the result use type conversion. You need to use membership operators (in, not in) for preventing adding any duplicates values.\n",
        "\n",
        "\n",
        "================================================================\n",
        "\n",
        "Example1: \n",
        "\n",
        "Function Call:\n",
        "rem_duplicate((1,1,1,2,3,4,5,6,6,6,6,4,0,0,0))\n",
        "\n",
        "Output:\n",
        "(1, 2, 3, 4, 5, 6, 0)\n",
        "\n",
        "================================================================\n",
        "Example2: \n",
        "\n",
        "Function Call:\n",
        "rem_duplicate((\"Hi\", 1, 2, 3, 3, \"Hi\",'a', 'a', [1,2]))\n",
        "\n",
        "Output:\n",
        "('Hi', 1, 2, 3, 'a', [1, 2])\n"
      ],
      "metadata": {
        "id": "8K7zxEiB8gaj"
      }
    },
    {
      "cell_type": "code",
      "source": [
        "def rem_duplicate(tup):\n",
        "    tup_list = list(tup)\n",
        "    no_duplicate = []\n",
        "    for item in tup_list:\n",
        "        if item not in no_duplicate:\n",
        "            no_duplicate.append(item)\n",
        "    fresh_tup = tuple(no_duplicate)\n",
        "    return fresh_tup\n",
        "\n",
        "\n",
        "# Function Call\n",
        "print(rem_duplicate((1, 1, 1, 2, 3, 4, 5, 6, 6, 6, 6, 4, 0, 0, 0)))\n",
        "print(rem_duplicate((\"Hi\", 1, 2, 3, 3, \"Hi\", \"a\", \"a\", [1, 2])))"
      ],
      "metadata": {
        "id": "T2TbPghiBdlv"
      },
      "execution_count": null,
      "outputs": []
    }
  ],
  "metadata": {
    "colab": {
      "name": "CSE110_Lab_Assignment_6_(function).ipynb",
      "provenance": []
    },
    "kernelspec": {
      "display_name": "Python 3",
      "name": "python3"
    },
    "language_info": {
      "name": "python"
    }
  },
  "nbformat": 4,
  "nbformat_minor": 0
}