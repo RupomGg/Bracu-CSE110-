{
  "nbformat": 4,
  "nbformat_minor": 0,
  "metadata": {
    "kernelspec": {
      "display_name": "Python 3",
      "language": "python",
      "name": "python3"
    },
    "language_info": {
      "codemirror_mode": {
        "name": "ipython",
        "version": 3
      },
      "file_extension": ".py",
      "mimetype": "text/x-python",
      "name": "python",
      "nbconvert_exporter": "python",
      "pygments_lexer": "ipython3",
      "version": "3.7.6"
    },
    "colab": {
      "name": "CSE110 Lab Assignment 1 (Branching).ipynb",
      "provenance": [],
      "collapsed_sections": []
    }
  },
  "cells": [
    {
      "cell_type": "markdown",
      "metadata": {
        "id": "uyPy6C3yGxw7"
      },
      "source": [
        "# CSE110 Lab Assignment 1 (Branching)\n",
        "\n",
        "This assignment is to guide you to solve basic programming problems in Python. Since this is the first assignment, the first problem is solved for you with explanations. The second problem is partially solved to help you. Please go through them and try to understand each statment. If you can understand the problems and the solutions done for you, you can try to solve the rest of the tasks by yourself. \n",
        "\n",
        "**<font color='red'>Please maintain variable naming conventions for all the tasks.</font>**\\\n",
        "<font color='red'>When you run your code, please make sure your outputs exactly match the sample outputs for each of the sample inputs given. Check if your code works for other valid inputs not given in the samples.</font>\n",
        "\n",
        "## Write the Python code for the following problems:\n"
      ]
    },
    {
      "cell_type": "markdown",
      "metadata": {
        "id": "YuyYBntuGxxB"
      },
      "source": [
        "### Task 1\n",
        "\n",
        "Write the Python code of a program that reads two numbers from the user, and prints their sum, product, and difference.\n",
        "\n",
        "==========================================================\n",
        "\n",
        "*Hint: subtract the second number from the first one*\n",
        "\n",
        "==========================================================\n",
        "\n",
        "**Example 1:**\n",
        "\n",
        "**Sample Input:**\\\n",
        " 4\\\n",
        " 5\n",
        "\n",
        "**Sample Output:**\\\n",
        "Sum = 9\\\n",
        "Product = 20\\\n",
        "Difference = -1\n",
        "\n",
        "==========================================================\n",
        "\n",
        "**Example 2:**\n",
        "\n",
        "**Sample Input:**\\\n",
        " 30\\\n",
        " 2\n",
        "\n",
        "**Sample Output:**\\\n",
        "Sum = 32\\\n",
        "Product = 60\\\n",
        "Difference = 28\n",
        "\n",
        "==========================================================\n",
        "\n",
        "For your explanation, the first question's code is done below. Try relating the block of code with the lessons you have learned and try to understand the significance of each line. You're most welcome to play around with the code. This will strengthen your understanding.\n"
      ]
    },
    {
      "cell_type": "code",
      "metadata": {
        "id": "Nm8cn6LGGxxB",
        "colab": {
          "base_uri": "https://localhost:8080/",
          "height": 536
        },
        "outputId": "3465e7f7-f57c-41f6-b8c1-5695be4f5d9f"
      },
      "source": [
        "# First, we take 2 numbers as input from the user\n",
        "# Read 2 numbers as input from the user means taking 2 numbers as input from the user using the input function\n",
        "var_1 = input('Please enter the first number: ')\n",
        "var_2 = input('Please enter the second number: ')\n",
        "\n",
        "#Since input() function converts everything to String,\n",
        "#for performing any kind of mathematical operation we need to convert them to int.\n",
        "#For this conversion, we need to use the int() function\n",
        "\n",
        "\n",
        "#But at first, we may clarify whether the inputs are actually Strings or not. \n",
        "print(type(var_1))\n",
        "print(type(var_2))\n",
        "\n",
        "\n",
        "#Then we convert the Strings to integer using the int() function\n",
        "var_3 = int(var_1)\n",
        "var_4 = int(var_2)\n",
        "\n",
        "#===============================================================\n",
        "#Input taking and conversion can be done in a single line as shown below\n",
        "#var_1 = int(input('Please enter the first number: '))\n",
        "#var_2 = int(input('Please enter the second number: '))\n",
        "\n",
        "#===============================================================\n",
        "\n",
        "#We may then perform Addition\n",
        "total = var_3 + var_4\n",
        "\n",
        "#Multiplication \n",
        "product = var_3 * var_4\n",
        "\n",
        "#Substraction \n",
        "difference = var_3 - var_4\n",
        "\n",
        "#And then print all the calculated results\n",
        "print(\"Sum =\", total)\n",
        "print(\"Product =\", product)\n",
        "print(\"Difference =\", difference)\n"
      ],
      "execution_count": null,
      "outputs": [
        {
          "output_type": "error",
          "ename": "KeyboardInterrupt",
          "evalue": "ignored",
          "traceback": [
            "\u001b[0;31m---------------------------------------------------------------------------\u001b[0m",
            "\u001b[0;31mKeyboardInterrupt\u001b[0m                         Traceback (most recent call last)",
            "\u001b[0;32m/usr/local/lib/python3.7/dist-packages/ipykernel/kernelbase.py\u001b[0m in \u001b[0;36m_input_request\u001b[0;34m(self, prompt, ident, parent, password)\u001b[0m\n\u001b[1;32m    728\u001b[0m             \u001b[0;32mtry\u001b[0m\u001b[0;34m:\u001b[0m\u001b[0;34m\u001b[0m\u001b[0;34m\u001b[0m\u001b[0m\n\u001b[0;32m--> 729\u001b[0;31m                 \u001b[0mident\u001b[0m\u001b[0;34m,\u001b[0m \u001b[0mreply\u001b[0m \u001b[0;34m=\u001b[0m \u001b[0mself\u001b[0m\u001b[0;34m.\u001b[0m\u001b[0msession\u001b[0m\u001b[0;34m.\u001b[0m\u001b[0mrecv\u001b[0m\u001b[0;34m(\u001b[0m\u001b[0mself\u001b[0m\u001b[0;34m.\u001b[0m\u001b[0mstdin_socket\u001b[0m\u001b[0;34m,\u001b[0m \u001b[0;36m0\u001b[0m\u001b[0;34m)\u001b[0m\u001b[0;34m\u001b[0m\u001b[0;34m\u001b[0m\u001b[0m\n\u001b[0m\u001b[1;32m    730\u001b[0m             \u001b[0;32mexcept\u001b[0m \u001b[0mException\u001b[0m\u001b[0;34m:\u001b[0m\u001b[0;34m\u001b[0m\u001b[0;34m\u001b[0m\u001b[0m\n",
            "\u001b[0;32m/usr/local/lib/python3.7/dist-packages/jupyter_client/session.py\u001b[0m in \u001b[0;36mrecv\u001b[0;34m(self, socket, mode, content, copy)\u001b[0m\n\u001b[1;32m    802\u001b[0m         \u001b[0;32mtry\u001b[0m\u001b[0;34m:\u001b[0m\u001b[0;34m\u001b[0m\u001b[0;34m\u001b[0m\u001b[0m\n\u001b[0;32m--> 803\u001b[0;31m             \u001b[0mmsg_list\u001b[0m \u001b[0;34m=\u001b[0m \u001b[0msocket\u001b[0m\u001b[0;34m.\u001b[0m\u001b[0mrecv_multipart\u001b[0m\u001b[0;34m(\u001b[0m\u001b[0mmode\u001b[0m\u001b[0;34m,\u001b[0m \u001b[0mcopy\u001b[0m\u001b[0;34m=\u001b[0m\u001b[0mcopy\u001b[0m\u001b[0;34m)\u001b[0m\u001b[0;34m\u001b[0m\u001b[0;34m\u001b[0m\u001b[0m\n\u001b[0m\u001b[1;32m    804\u001b[0m         \u001b[0;32mexcept\u001b[0m \u001b[0mzmq\u001b[0m\u001b[0;34m.\u001b[0m\u001b[0mZMQError\u001b[0m \u001b[0;32mas\u001b[0m \u001b[0me\u001b[0m\u001b[0;34m:\u001b[0m\u001b[0;34m\u001b[0m\u001b[0;34m\u001b[0m\u001b[0m\n",
            "\u001b[0;32m/usr/local/lib/python3.7/dist-packages/zmq/sugar/socket.py\u001b[0m in \u001b[0;36mrecv_multipart\u001b[0;34m(self, flags, copy, track)\u001b[0m\n\u001b[1;32m    624\u001b[0m         \"\"\"\n\u001b[0;32m--> 625\u001b[0;31m         \u001b[0mparts\u001b[0m \u001b[0;34m=\u001b[0m \u001b[0;34m[\u001b[0m\u001b[0mself\u001b[0m\u001b[0;34m.\u001b[0m\u001b[0mrecv\u001b[0m\u001b[0;34m(\u001b[0m\u001b[0mflags\u001b[0m\u001b[0;34m,\u001b[0m \u001b[0mcopy\u001b[0m\u001b[0;34m=\u001b[0m\u001b[0mcopy\u001b[0m\u001b[0;34m,\u001b[0m \u001b[0mtrack\u001b[0m\u001b[0;34m=\u001b[0m\u001b[0mtrack\u001b[0m\u001b[0;34m)\u001b[0m\u001b[0;34m]\u001b[0m\u001b[0;34m\u001b[0m\u001b[0;34m\u001b[0m\u001b[0m\n\u001b[0m\u001b[1;32m    626\u001b[0m         \u001b[0;31m# have first part already, only loop while more to receive\u001b[0m\u001b[0;34m\u001b[0m\u001b[0;34m\u001b[0m\u001b[0;34m\u001b[0m\u001b[0m\n",
            "\u001b[0;32mzmq/backend/cython/socket.pyx\u001b[0m in \u001b[0;36mzmq.backend.cython.socket.Socket.recv\u001b[0;34m()\u001b[0m\n",
            "\u001b[0;32mzmq/backend/cython/socket.pyx\u001b[0m in \u001b[0;36mzmq.backend.cython.socket.Socket.recv\u001b[0;34m()\u001b[0m\n",
            "\u001b[0;32mzmq/backend/cython/socket.pyx\u001b[0m in \u001b[0;36mzmq.backend.cython.socket._recv_copy\u001b[0;34m()\u001b[0m\n",
            "\u001b[0;32m/usr/local/lib/python3.7/dist-packages/zmq/backend/cython/checkrc.pxd\u001b[0m in \u001b[0;36mzmq.backend.cython.checkrc._check_rc\u001b[0;34m()\u001b[0m\n",
            "\u001b[0;31mKeyboardInterrupt\u001b[0m: ",
            "\nDuring handling of the above exception, another exception occurred:\n",
            "\u001b[0;31mKeyboardInterrupt\u001b[0m                         Traceback (most recent call last)",
            "\u001b[0;32m<ipython-input-1-2278b5164aaa>\u001b[0m in \u001b[0;36m<module>\u001b[0;34m()\u001b[0m\n\u001b[1;32m      1\u001b[0m \u001b[0;31m# First, we take 2 numbers as input from the user\u001b[0m\u001b[0;34m\u001b[0m\u001b[0;34m\u001b[0m\u001b[0;34m\u001b[0m\u001b[0m\n\u001b[1;32m      2\u001b[0m \u001b[0;31m# Read 2 numbers as input from the user means taking 2 numbers as input from the user using the input function\u001b[0m\u001b[0;34m\u001b[0m\u001b[0;34m\u001b[0m\u001b[0;34m\u001b[0m\u001b[0m\n\u001b[0;32m----> 3\u001b[0;31m \u001b[0mvar_1\u001b[0m \u001b[0;34m=\u001b[0m \u001b[0minput\u001b[0m\u001b[0;34m(\u001b[0m\u001b[0;34m'Please enter the first number: '\u001b[0m\u001b[0;34m)\u001b[0m\u001b[0;34m\u001b[0m\u001b[0;34m\u001b[0m\u001b[0m\n\u001b[0m\u001b[1;32m      4\u001b[0m \u001b[0mvar_2\u001b[0m \u001b[0;34m=\u001b[0m \u001b[0minput\u001b[0m\u001b[0;34m(\u001b[0m\u001b[0;34m'Please enter the second number: '\u001b[0m\u001b[0;34m)\u001b[0m\u001b[0;34m\u001b[0m\u001b[0;34m\u001b[0m\u001b[0m\n\u001b[1;32m      5\u001b[0m \u001b[0;34m\u001b[0m\u001b[0m\n",
            "\u001b[0;32m/usr/local/lib/python3.7/dist-packages/ipykernel/kernelbase.py\u001b[0m in \u001b[0;36mraw_input\u001b[0;34m(self, prompt)\u001b[0m\n\u001b[1;32m    702\u001b[0m             \u001b[0mself\u001b[0m\u001b[0;34m.\u001b[0m\u001b[0m_parent_ident\u001b[0m\u001b[0;34m,\u001b[0m\u001b[0;34m\u001b[0m\u001b[0;34m\u001b[0m\u001b[0m\n\u001b[1;32m    703\u001b[0m             \u001b[0mself\u001b[0m\u001b[0;34m.\u001b[0m\u001b[0m_parent_header\u001b[0m\u001b[0;34m,\u001b[0m\u001b[0;34m\u001b[0m\u001b[0;34m\u001b[0m\u001b[0m\n\u001b[0;32m--> 704\u001b[0;31m             \u001b[0mpassword\u001b[0m\u001b[0;34m=\u001b[0m\u001b[0;32mFalse\u001b[0m\u001b[0;34m,\u001b[0m\u001b[0;34m\u001b[0m\u001b[0;34m\u001b[0m\u001b[0m\n\u001b[0m\u001b[1;32m    705\u001b[0m         )\n\u001b[1;32m    706\u001b[0m \u001b[0;34m\u001b[0m\u001b[0m\n",
            "\u001b[0;32m/usr/local/lib/python3.7/dist-packages/ipykernel/kernelbase.py\u001b[0m in \u001b[0;36m_input_request\u001b[0;34m(self, prompt, ident, parent, password)\u001b[0m\n\u001b[1;32m    732\u001b[0m             \u001b[0;32mexcept\u001b[0m \u001b[0mKeyboardInterrupt\u001b[0m\u001b[0;34m:\u001b[0m\u001b[0;34m\u001b[0m\u001b[0;34m\u001b[0m\u001b[0m\n\u001b[1;32m    733\u001b[0m                 \u001b[0;31m# re-raise KeyboardInterrupt, to truncate traceback\u001b[0m\u001b[0;34m\u001b[0m\u001b[0;34m\u001b[0m\u001b[0;34m\u001b[0m\u001b[0m\n\u001b[0;32m--> 734\u001b[0;31m                 \u001b[0;32mraise\u001b[0m \u001b[0mKeyboardInterrupt\u001b[0m\u001b[0;34m\u001b[0m\u001b[0;34m\u001b[0m\u001b[0m\n\u001b[0m\u001b[1;32m    735\u001b[0m             \u001b[0;32melse\u001b[0m\u001b[0;34m:\u001b[0m\u001b[0;34m\u001b[0m\u001b[0;34m\u001b[0m\u001b[0m\n\u001b[1;32m    736\u001b[0m                 \u001b[0;32mbreak\u001b[0m\u001b[0;34m\u001b[0m\u001b[0;34m\u001b[0m\u001b[0m\n",
            "\u001b[0;31mKeyboardInterrupt\u001b[0m: "
          ]
        }
      ]
    },
    {
      "cell_type": "markdown",
      "metadata": {
        "id": "RsWYzW1HGxxM"
      },
      "source": [
        "### Task 2\n",
        "\n",
        "Write the Python code of a program that reads the radius of a circle and prints its circumference and area.\n",
        "\n",
        "==========================================================\n",
        "\n",
        "*hint(1): we may import math and then use **math.pi** for getting the value of pi.\\\n",
        "For details, we can read from https://docs.python.org/3/library/math.html*\n",
        "\n",
        "*hint(2): we can import math and use the math function for making squares with math.pow(number, power) or we can simply use the power operator. For example:  S**2.*\n",
        "\n",
        "==========================================================\n",
        "\n",
        "**Example 1:**\n",
        "\n",
        "**Sample Input:**\\\n",
        "4\n",
        "\n",
        "**Sample Output:**\\\n",
        "Area is 50.26548245743669\\\n",
        "Circumference is 25.132741228718345\n",
        "\n",
        "==========================================================\n",
        "\n",
        "**Example 2:**\n",
        "\n",
        "**Sample Input:**\\\n",
        "3.5\n",
        "\n",
        "**Sample Output:**\\\n",
        "Area is 38.48451000647496\\\n",
        "Circumference is 21.991148575128552\n",
        "\n",
        "==========================================================\n",
        "\n",
        "For your understanding, the the first part of the question(area calculation) is done below."
      ]
    },
    {
      "cell_type": "code",
      "metadata": {
        "id": "CsvW0BrsGxxM",
        "outputId": "a386c150-fbec-47f5-c92c-49b854c6eb24",
        "colab": {
          "base_uri": "https://localhost:8080/"
        }
      },
      "source": [
        "import math \n",
        "\n",
        "# taking input from the user, then converting it to float\n",
        "# since radius can be a floating point value\n",
        "\n",
        "radius  = float(input(\"Please enter the radius value:\")) \n",
        "\n",
        "# squares can be made using these 3 ways, as give in hints\n",
        "# all 3 ways generates the same result for area\n",
        "\n",
        "area = math.pi * radius ** 2 \n",
        "print(\"Area is:\", area)\n",
        "\n",
        "area = math.pi * math.pow(radius, 2)\n",
        "print(\"Area is:\", area)\n",
        "\n",
        "area = math.pi * radius * radius\n",
        "print(\"Area is:\", area)\n",
        "\n",
        "#==============================================================\n",
        "# TODO\n",
        "# calculate circumference\n",
        "\n",
        "#=============================================================="
      ],
      "execution_count": null,
      "outputs": [
        {
          "output_type": "stream",
          "name": "stdout",
          "text": [
            "Please enter the radius value:3.5\n",
            "Area is: 38.48451000647496\n",
            "Area is: 38.48451000647496\n",
            "Area is: 38.48451000647496\n"
          ]
        }
      ]
    },
    {
      "cell_type": "markdown",
      "metadata": {
        "id": "_ix8TYCXGxxU"
      },
      "source": [
        "### Task 3\n",
        "\n",
        "Write the Python code of a program that reads two numbers from the user. The program should then print \"First is greater\" if the first number is greater, \"Second is greater\" if the second number is greater, and \"The numbers are equal\" otherwise.\n",
        "\n",
        "==========================================================\n",
        "\n",
        "**Sample Input 1:**\\\n",
        "7\\\n",
        "3\n",
        "\n",
        "**Sample Output 1:**\\\n",
        "First is greater\n",
        "\n",
        "==========================================================\n",
        "\n",
        "**Sample Input 2:**\\\n",
        "-33\\\n",
        "-3\n",
        "\n",
        "**Sample Output 2:**\\\n",
        "Second is greater\n",
        "\n",
        "==========================================================\n",
        "\n",
        "**Sample Input 1:**\\\n",
        "11\\\n",
        "11\n",
        "\n",
        "**Sample Output 1:**\\\n",
        "The numbers are equal\n"
      ]
    },
    {
      "cell_type": "code",
      "metadata": {
        "id": "0cXCOjm0GxxU",
        "colab": {
          "base_uri": "https://localhost:8080/"
        },
        "outputId": "d37fdb68-904d-4563-d99f-c8d24d4b4f3a"
      },
      "source": [
        "#todo\n",
        "# at first, we are taking two sample number input from our user\n",
        "# since we are trying to find out which input number is greater or equal we need \n",
        "#to convert the input into integer\n",
        "var_1 = int(input('Please enter the first number: '))\n",
        "var_2 = int(input('Please enter the second number: '))\n",
        "# as we are trying to which of the number inputted by user is greater or equal \n",
        "#we need to use  if-elif-else condition.\n",
        "# there are more than two condition that's why we using it\n",
        "if (var_1 > var_2):\n",
        "    print(\"First is greater\")\n",
        "elif (var_2 > var_1):\n",
        "    print(\"Second is greater\")\n",
        "else:\n",
        "    print(\"The numbers are equal\")"
      ],
      "execution_count": null,
      "outputs": [
        {
          "output_type": "stream",
          "name": "stdout",
          "text": [
            "Please enter the first number: -33\n",
            "Please enter the second number: -3\n",
            "Second is greater\n"
          ]
        }
      ]
    },
    {
      "cell_type": "markdown",
      "metadata": {
        "id": "B-lEymPxGxxZ"
      },
      "source": [
        "### Task 4\n",
        "\n",
        "Write the Python code of a program that reads two numbers, subtracts the smaller number from the larger one, and prints the result.\n",
        "\n",
        "*Hint: First, we may check which number is greater*\n",
        "\n",
        "==========================================================\n",
        "\n",
        "**Sample Input 1:**\\\n",
        "-40\\\n",
        "-4\n",
        "\n",
        "**Sample Output 1:**\\\n",
        "36\n",
        "\n",
        "**Explanation:** -4 > -40 so -4 - (-40) = -4 + 40 = 36\n",
        "\n",
        "==========================================================\n",
        "\n",
        "**Sample Input 2:**\\\n",
        "6\\\n",
        "2\n",
        "\n",
        "**Sample Output 2:**\\\n",
        "4\n",
        "\n",
        "==========================================================\n",
        "\n",
        "\n",
        "**Sample Input 3:**\\\n",
        "5\\\n",
        "5\n",
        "\n",
        "**Sample Output 3:**\\\n",
        "0\n"
      ]
    },
    {
      "cell_type": "code",
      "metadata": {
        "id": "XBdXtfEtGxxa",
        "colab": {
          "base_uri": "https://localhost:8080/"
        },
        "outputId": "63fd2cf3-6bf9-4b5a-b730-1497cabebf46"
      },
      "source": [
        "#todo\n",
        "# in the given task we need to write the Python code of a program that reads \n",
        "# two numbers, subtracts the smaller number from the larger one, \n",
        "# and prints the result\n",
        "# For this at first we need to find out which inputted number is greater \n",
        "# one or the equal one\n",
        "var_1 = int(input(\"Please enter the first number: \"))\n",
        "var_2 = int(input(\"Please enter the second number:  \"))\n",
        "# to find out the greater one or the equal one  we need to use if elif else \n",
        "# condition here.Beacuse there is 3 types of condition here .\n",
        "if (var_1 > var_2):\n",
        "    print(var_1 - var_2)\n",
        "elif (var_1 == var_2):\n",
        "    print(0)\n",
        "else:\n",
        "    print(var_2 - var_1)\n"
      ],
      "execution_count": null,
      "outputs": [
        {
          "output_type": "stream",
          "name": "stdout",
          "text": [
            "Please enter the first number: -40\n",
            "Please enter the second number:  -4\n",
            "36\n"
          ]
        }
      ]
    },
    {
      "cell_type": "markdown",
      "metadata": {
        "id": "jQEW8unEGxxf"
      },
      "source": [
        "### Task 5\n",
        "\n",
        "Write the Python code of a program that reads a number, and prints \"The number is even\" or \"The number is odd\", depending on whether the number is even or odd. \n",
        "\n",
        "*hint(1): we may use the modulus (%) operator to check for even or odd*\n",
        "\n",
        "*hint(2): we can consider the number to be an integer* \n",
        "\n",
        "==========================================================\n",
        "\n",
        "**Sample Input 1:**\\\n",
        "7\n",
        "\n",
        "**Sample Output 1:**\\\n",
        "The number is odd\n",
        "\n",
        "==========================================================\n",
        "\n",
        "**Sample Input 2:**\\\n",
        "10\n",
        "\n",
        "**Sample Output 2:**\\\n",
        "The number is even\n",
        "\n",
        "==========================================================\n",
        "\n",
        "**Sample Input 3:**\\\n",
        "-44\n",
        "\n",
        "**Sample Output 3:**\\\n",
        "The number is even\n"
      ]
    },
    {
      "cell_type": "code",
      "metadata": {
        "id": "SsjHXfW_Gxxg"
      },
      "source": [
        "#todo\n",
        "# In the given task we need to write the python code of a  program that reads a \n",
        "# number, and prints \"The number is even\" or \"The number is odd\", depending on \n",
        "# whether the number is even or odd.\n",
        "# To find out if the inputted number is odd, or even we need to use the modulus \n",
        "# (%) operator\n",
        "entry_1 = int(input(\"Enter your number here: \"))\n",
        "if entry_1 % 2 == 0:\n",
        "    print(\"The number is even\")\n",
        "else:\n",
        "    print(\"The number is odd\")"
      ],
      "execution_count": null,
      "outputs": []
    },
    {
      "cell_type": "markdown",
      "metadata": {
        "id": "bXNE8TTGGxxn"
      },
      "source": [
        "### Task 6\n",
        "\n",
        "Write the Python code of a program that reads an integer as input from the user, and prints the integer if it is a multiple of **2 OR 5** and prints \"Not a multiple of 2 OR 5\" otherwise.\n",
        "\n",
        "For example, 2, 4, 5, 6, 8, 10, 12, 14, 15, 16, 18, 20, 22 … i.e. this includes multiples of 2 only, multiples of 5 only and multiples of 2 and 5 both.\n",
        "\n",
        "==========================================================\n",
        "\n",
        "*hint(1): we may use the modulus (%) operator for checking the divisibility*\n",
        "\n",
        "*hint(2): we can consider the number to be an integer* \n",
        "\n",
        "==========================================================\n",
        "\n",
        "**Sample Input 1:**\\\n",
        "5\n",
        "\n",
        "**Sample Output 1:**\\\n",
        "5\n",
        "\n",
        "==========================================================\n",
        "\n",
        "**Sample Input 2:**\\\n",
        "10\n",
        "\n",
        "**Sample Output 2:**\\\n",
        "10\n",
        "\n",
        "==========================================================\n",
        "\n",
        "**Sample Input 3:**\\\n",
        "3\n",
        "\n",
        "**Sample Output 3:**\\\n",
        "Not a multiple of 2 OR 5\n"
      ]
    },
    {
      "cell_type": "code",
      "source": [
        ""
      ],
      "metadata": {
        "id": "wybxUyoXmeSL"
      },
      "execution_count": null,
      "outputs": []
    },
    {
      "cell_type": "code",
      "metadata": {
        "id": "O_kEf_WsGxxr",
        "colab": {
          "base_uri": "https://localhost:8080/"
        },
        "outputId": "68970bc8-205d-49ab-87db-ae2aa2fb91b4"
      },
      "source": [
        "# todo\n",
        "# In the given task we need to Write the Python code of a program that reads an\n",
        "# integer as input from the user, and prints the integer if it is a multiple \n",
        "# of 2 OR 5 and prints \"Not a multiple of 2 OR 5\" otherwise.\n",
        "entry = int(input('Enter a number : '))\n",
        "# At first, we need to take input from user and we my use the modulus % for \n",
        "# checking if that input is multiple of 2 or 5\n",
        "# after that we need to use or logic if the inputted integer is a multiple \n",
        "# of 2 or 5\n",
        "if (entry % 2 == 0) or (entry % 5 == 0) :\n",
        "    print(entry)\n",
        "else :\n",
        "    print('Not a multiple of 2 or 5.')\n"
      ],
      "execution_count": null,
      "outputs": [
        {
          "output_type": "stream",
          "name": "stdout",
          "text": [
            "Enter a number : 11\n",
            "Not a multiple of 2 or 5.\n"
          ]
        }
      ]
    },
    {
      "cell_type": "markdown",
      "metadata": {
        "id": "W0VUh6LyGxxr"
      },
      "source": [
        "### Task 7\n",
        "Write the Python code of a program that reads an integer, and prints the integer  it is a multiple of **either 2 or 5 but not both.** If the number is a multiple of 2 and 5 both, then print \"Multiple of 2 and 5 both\". For all other numbers, the program prints \"Not a multiple we want\".\n",
        "\n",
        "For example, 2, 4, 5, 6, 8, 12, 14, 15, 16, 18, 22 … i.e. this includes multiples of 2 only and multiples of 5 only, NOT multiples of 2 and 5 both or other numbers.\n",
        "\n",
        "==========================================================\n",
        "\n",
        "*hint(1): we may use the modulus (%) operator for checking the divisibility*\n",
        "\n",
        "*hint(2): we can consider the number to be an integer* \n",
        "\n",
        "==========================================================\n",
        "\n",
        "**Sample Input 1:**\\\n",
        "6\n",
        "\n",
        "**Sample Output 1:**\\\n",
        "6\n",
        "\n",
        "==========================================================\n",
        "\n",
        "**Sample Input 2:**\\\n",
        "15\n",
        "\n",
        "**Sample Output 2:**\\\n",
        "15\n",
        "\n",
        "==========================================================\n",
        "\n",
        "**Sample Input 3:**\\\n",
        "10\n",
        "\n",
        "**Sample Output 3:**\\\n",
        "Multiple of 2 and 5 both\n",
        "\n",
        "==========================================================\n",
        "\n",
        "**Sample Input 4:**\\\n",
        "17\n",
        "\n",
        "**Sample Output 4:**\\\n",
        "Not a multiple we want"
      ]
    },
    {
      "cell_type": "code",
      "metadata": {
        "id": "P8ap0JrmjXqy"
      },
      "source": [
        "#todo\n",
        "# In the given task we need to Write the Python code of a program that reads an \n",
        "# integer as input from the user, and prints the integer it is a multiple of \n",
        "# either 2 or 5 but not both. If the number is a multiple of 2 and 5 both, then\n",
        "# print \"Multiple of 2 and 5 both\". For all other numbers, the program prints\n",
        "# \"Not a multiple we want\".\n",
        "# At first, we need to take input from user and we my use the modulus % for \n",
        "# checking if that input is multiple of 2 or 5\n",
        "entry = int(input(\"Please input the number: \"))\n",
        "# after that we need to use and logic to check if the entry is  multiple of both\n",
        "# 2 and 5 as well as we need to use f elif else condition to check if the entry\n",
        "# is a multiple of 2 or 5 or not a multiple of 2 OR 5\n",
        "if (entry % 2 == 0) and (entry % 5 == 0):\n",
        "    print(\"The entry is a multiple of both 2 and 5\")\n",
        "elif (entry % 2 == 0):\n",
        "    print(\"The entry is a multiple of 2 \")\n",
        "elif (entry % 5 == 0):\n",
        "    print(\"The entry is a multiple of 5\")\n",
        "else:\n",
        "    print(\"Not a multiple we want\")"
      ],
      "execution_count": null,
      "outputs": []
    },
    {
      "cell_type": "markdown",
      "metadata": {
        "id": "w6Yoi7DfGxxw"
      },
      "source": [
        "### Task 8\n",
        "Write the Python code of a program that reads an integer, and prints the integer if it is a multiple of **2 AND 5** and prints \"Not multiple of 2 and 5 both\" otherwise.\n",
        "\n",
        "==========================================================\n",
        "\n",
        "For example, 10, 20, 30, 40, 50 … i.e. this only includes numbers which are multiples of both 2 and 5.\n",
        "\n",
        "*hint(1): we may use the modulus (%) operator for checking the divisibility*\n",
        "\n",
        "*hint(2): we can consider the number to be an integer* \n",
        "\n",
        "==========================================================\n",
        "\n",
        "**Sample Input 1:**\\\n",
        "30\n",
        "\n",
        "**Sample Output 1:**\\\n",
        "30\n",
        "\n",
        "==========================================================\n",
        "\n",
        "**Sample Input 2:**\\\n",
        "15\n",
        "\n",
        "**Sample Output 2:**\\\n",
        "Not multiple of 2 and 5 both\n",
        "\n",
        "\n",
        "==========================================================\n",
        "\n",
        "**Sample Input 3:**\\\n",
        "6\n",
        "\n",
        "**Sample Output 3:**\\\n",
        "Not multiple of 2 and 5 both"
      ]
    },
    {
      "cell_type": "code",
      "metadata": {
        "id": "-Zjnff92Gxxx"
      },
      "source": [
        "#todo\n",
        "# In the given task we need to Write the Python code of a program that reads an \n",
        "# integer, and prints the integer if it is a multiple of 2 AND 5 and prints \n",
        "# \"Not multiple of 2 and 5 both\" otherwise\n",
        "entry = int(input(\"Please input the number: \"))\n",
        "# At first, we need to take input from user and we my use the modulus % for \n",
        "# checking if that input is multiple of 2 or 5\n",
        "# after that we need to use and logic to check if the entry is  multiple of both\n",
        "# 2 and 5 or not\n",
        "if (entry % 2 == 0) and (entry % 5 == 0):\n",
        "    print(\"entry\")\n",
        "else :\n",
        "    print(\"Not multiple of 2 and 5 both\")"
      ],
      "execution_count": null,
      "outputs": []
    },
    {
      "cell_type": "markdown",
      "metadata": {
        "id": "_6lrd5lZGxyJ"
      },
      "source": [
        "### Task 9\n",
        "Write the Python code of a program that finds the number of hours, minutes, and seconds in a **given number of seconds.** The number of seconds is taken as input from the user.\n",
        "\n",
        "==========================================================\n",
        "\n",
        "*hint(1): we may consider our user input to be an integer value and use // and % operators to solve the problem* \n",
        "\n",
        "*hint(2): 1 hour = 60 mins = 3600 seconds* and *1 min = 60 seconds* \n",
        "\n",
        "==========================================================\n",
        "\n",
        "**Sample Input 1:**\\\n",
        "10000\n",
        "\n",
        "**Sample Output 1:**\\\n",
        "Hours: 2  Minutes: 46  Seconds: 40\n",
        "\n",
        "**Explanation:**\\\n",
        "10000 seconds = 10000 // 3600 = 2 hours and 10000 % 3600 = 2800 seconds.\\\n",
        "Then again, 2800 // 60 = 46 minutes and 2800 % 60 = 40 seconds.\\\n",
        "And hence we have arrived at our answer.\n",
        "\n",
        "==========================================================\n",
        "\n",
        "**Sample Input 2:**\\\n",
        "500\n",
        "\n",
        "**Sample Output 2:**\\\n",
        "Hours: 0  Minutes: 8  Seconds: 20\n"
      ]
    },
    {
      "cell_type": "code",
      "metadata": {
        "id": "xd9l2gQvGxyN",
        "colab": {
          "base_uri": "https://localhost:8080/"
        },
        "outputId": "01afe135-ad3f-43a5-fbcc-ef7e4d827952"
      },
      "source": [
        "sample = int(input(\"Please input the number : \"))\n",
        "hours = (sample // 3600) # As 1 Hour = 3600 Sec\n",
        "temp = (sample % 3600)\n",
        "minutes = (temp // 60) # 1 Min = 60 Sec\n",
        "seconds = (temp % 60)\n",
        "print(\"hours:\", hours , \"minutes:\" , minutes , \"seconds :\", seconds)\n"
      ],
      "execution_count": null,
      "outputs": [
        {
          "output_type": "stream",
          "name": "stdout",
          "text": [
            "Please input the number : 500\n",
            "hours: 0 minutes: 8 seconds : 20\n"
          ]
        }
      ]
    },
    {
      "cell_type": "markdown",
      "metadata": {
        "id": "2LC9or6kGxyD"
      },
      "source": [
        "### Task 10\n",
        "\n",
        "Write a Python program to compute and display a person’s weekly salary as determined by the following conditions:\n",
        "\n",
        "* If the hours worked is less than or equal to 40, then the person receives Tk 200 per hour.\n",
        "* If the hours worked is greater than 40, then the person receives Tk 8000 plus Tk 300 for each hour worked over 40 hours.\n",
        "\n",
        "The program should request the hours worked as an input from the user and display the salary as output. You need to make sure that user input is valid. For example, a person cannot work for -5 hours or more than 168 hours in a week. So, the valid hours range is 0 to 168. For invalid hours, print outputs as given in the samples below.\n",
        "\n",
        "==========================================================\n",
        "\n",
        "*Hint: you can consider the hour (user input) to be an integer* \n",
        "\n",
        "==========================================================\n",
        "\n",
        "**Sample Input 1:**\\\n",
        "100\n",
        "\n",
        "**Sample Output 1:**\\\n",
        "26000\n",
        "\n",
        "**Explanation:** Since, the number of hours worked is 100 > 40, therefore salary = 8000 + (100 - 40) * 300 = 26000.\n",
        "\n",
        "==========================================================\n",
        "\n",
        "**Sample Input 2:**\\\n",
        "30\n",
        "\n",
        "**Sample Output 2:**\\\n",
        "6000\n",
        "\n",
        "**Explanation:** Since, the number of hours worked is 30 < 40, therefore salary = 30 * 200 = 6000.\n",
        "\n",
        "==========================================================\n",
        "\n",
        "**Sample Input 3:**\\\n",
        "-30\n",
        "\n",
        "**Sample Output 3:**\\\n",
        "Hour cannot be negative\n",
        "\n",
        "==========================================================\n",
        "\n",
        "**Sample Input 4:**\\\n",
        "170\n",
        "\n",
        "**Sample Output 4:**\\\n",
        "Impossible to work more than 168 hours weekly"
      ]
    },
    {
      "cell_type": "code",
      "metadata": {
        "id": "L5JmB1bDGxyD"
      },
      "source": [
        "#todo\n",
        "salary_per_hour = int(input(\"please enter the hour of working : \"))\n",
        "if (salary_per_hour > 168):\n",
        "    print(\"Impossible to work more than 168 hours weekly\")\n",
        "elif (salary_per_hour < 0):\n",
        "    print(\"Hour cannot be negative\")\n",
        "elif (salary_per_hour > 40):\n",
        "    print((salary_per_hour - 40) * 300 + 8000)\n",
        "elif (salary_per_hour <= 40):\n",
        "    print(salary_per_hour * 200)\n",
        "else:\n",
        "    print(0)\n"
      ],
      "execution_count": null,
      "outputs": []
    },
    {
      "cell_type": "markdown",
      "metadata": {
        "id": "NQZL_Wh-GxyW"
      },
      "source": [
        "### Task 11\n",
        "Suppose the following expressions are used to calculate the values of L for different values of S:\n",
        "\n",
        "$L =  3000-125S^2$ \n",
        "if     $S<100$\n",
        "\n",
        "$ L =  \\frac{12000}{4+S^2/14900}$\n",
        "if     $S\\geq100$\n",
        "\n",
        "Write the Python code of a program that reads a value of S and then calculates the value of L.\n",
        "\n",
        "==========================================================\n",
        "\n",
        "*hint(1): you can import math and use math function for making squares with math.pow(number, power) or you can simply write S ** 2.*\n",
        "\n",
        "*hint(2): the value of S(user input) will be an integer* \n",
        "\n",
        "==========================================================\n",
        "\n",
        "**Sample Input 1:**\\\n",
        "120\n",
        "\n",
        "**Sample Output 1:**\\\n",
        "2416.2162162162163\n",
        "\n",
        "**Explanation:** Since S (user input) given here is 120 >= 100, so L = 12000 / (4 + (120 * 120)/14900) = 2416.2162162162163\n",
        "\n",
        "==========================================================\n",
        "\n",
        "**Sample Input 2:**\\\n",
        "3\n",
        "\n",
        "**Sample Output 2:**\\\n",
        "1875\n",
        "\n",
        "**Explanation:** Since S (user input) given here is 3 < 100, so L = 3000 - 125 * 3 * 3 = 1875\n"
      ]
    },
    {
      "cell_type": "code",
      "metadata": {
        "id": "nxgt9wlFGxyY"
      },
      "source": [
        "#todo\n",
        "s = int(input(\"Enter the value of S: \"))\n",
        "if (s < 100):\n",
        "    print(\"L: \", (3000 - (125 * s ** 2)))\n",
        "else:\n",
        "    print((\"L: \", 12000 / (4 + (s ** 2) / 14900)))"
      ],
      "execution_count": null,
      "outputs": []
    },
    {
      "cell_type": "markdown",
      "metadata": {
        "id": "WykwxxMBGxyd"
      },
      "source": [
        "### Task 12\n",
        "\n",
        "Write a Python program that takes an hour from the user as input and tells it is time for which meal.\n",
        "\n",
        "•\tThe user will input the number in a 24-hour format. So, 14 means 2 pm, 3 means 3 am, 18 means 6 pm, etc.\\\n",
        "•\tValid inputs are 0 to 23. Inputs less than 0 or more than 23 are invalid in 24-hour clock.\\\n",
        "•\tAssume, input will be whole numbers. For example, 3.5 will NOT be given as input.\n",
        "\n",
        "==========================================================\n",
        "\n",
        "**Input range: Message to be printed**\\\n",
        "4 to 6: Breakfast\\\n",
        "12 to 13: Lunch\\\n",
        "16 to 17: Snacks\\\n",
        "19 to 20: Dinner\\\n",
        "For all other valid inputs, say \"Patience is a virtue\"\\\n",
        "For all other invalid inputs, say \"Wrong time\"\n",
        "\n",
        "==========================================================\n",
        "\n",
        "For example,\\\n",
        "If the user enters 4, your program should print the message \"Breakfast\".\\\n",
        "If the user enters 5, your program should print the message \"Breakfast\".\\\n",
        "If the user enters 6, your program should print the message \"Breakfast\".\\\n",
        "If the user enters 0, your program should print the message \"Patience is a virtue\".\\\n",
        "If the user enters 1, your program should print the message \"Patience is a virtue\".\\\n",
        "If the user enters 18, your program should print the message \"Patience is a virtue\".\\\n",
        "If the user enters 23, your program should print the message \"Patience is a virtue\".\\\n",
        "If the user enters 24, your program should print the message \"Wrong Time\".\\\n",
        "If the user enters -1, your program should print the message \"Wrong Time\".\\\n",
        "If the user enters 27, your program should print the message \"Wrong time\".\n",
        "\n",
        "==========================================================\n",
        "\n",
        "Hints: You can use nested conditionals (if-else) or chained conditions (if-elif-else) to solve this problem.\n",
        "\n"
      ]
    },
    {
      "cell_type": "code",
      "metadata": {
        "id": "0qbV5e33Gxye"
      },
      "source": [
        "#todo\n",
        "time = int(input(\"Please enter the hour: \"))\n",
        "if (time > 23):\n",
        "    print(\"Wrong Time\")\n",
        "elif (time < 0):\n",
        "    print(\"Wrong Time\")\n",
        "elif (4 <= time <= 6):\n",
        "    print(\"Breakfast\")\n",
        "elif (12 <= time <= 13):\n",
        "    print(\"Lunch\")\n",
        "elif (16 <= time <= 17):\n",
        "    print(\"Snacks\")\n",
        "elif (19 <= time <= 20):\n",
        "    print(\"Dinner\")\n",
        "else:\n",
        "    print(\"Patience is a virtue\")"
      ],
      "execution_count": null,
      "outputs": []
    },
    {
      "cell_type": "markdown",
      "metadata": {
        "id": "KV1hMmd2Gxx9"
      },
      "source": [
        "### Task 13\n",
        "\n",
        "Write the Python code of a program that reads a student’s mark for a single subject, and prints out the corresponding grade for that mark. The mark ranges and corresponding grades are shown in the table below. You need to make sure that the mark is valid. For example, a student cannot receive -5 or 110 marks. So, the valid marks range is 0 to 100.\n",
        "\n",
        "*hint(1): you can consider the number to be an integer* \n",
        "\n",
        "*hint(2): this problem can be solved in two ways: top-down (starts from A) and bottom-up (starts from F)*\n",
        "\n",
        "\n",
        "| Marks | Grade|\n",
        "| --- | --- | \n",
        "|90 or above| A |\n",
        "|  |  | \n",
        "|80-89| B |\n",
        "|  |  | \n",
        "|70-79| C |\n",
        "|  |  | \n",
        "|60-69| D |\n",
        "|  |  | \n",
        "|50-59| E |\n",
        "|  |  | \n",
        "|Below 50| F |\n",
        "|  |  |\n"
      ]
    },
    {
      "cell_type": "code",
      "metadata": {
        "id": "9sr1xTkMGxx_"
      },
      "source": [
        "#todo\n",
        "marks = int(input(\"Please enter your marks: \"))\n",
        "if (90 <= marks <= 100):\n",
        "    print(\"Your Grade is 'A'\")\n",
        "elif (80 <= marks <= 89):\n",
        "    print(\"Your Grade is 'B'\")\n",
        "elif (70 <= marks <= 79):\n",
        "    print(\"Your Grade is 'C'\")\n",
        "elif (60 <= marks <= 69):\n",
        "    print(\"Your Grade is 'D'\")\n",
        "elif (50 <= marks <= 59):\n",
        "    print(\"Your Grade is 'E'\")\n",
        "elif (50 > marks >= 0):\n",
        "    print(\"Your Grade is 'F'\")\n",
        "else:\n",
        "    print(\"invalid\")\n"
      ],
      "execution_count": null,
      "outputs": []
    },
    {
      "cell_type": "markdown",
      "source": [
        "### Task 14\n",
        "\n",
        "You are designing a robot that can calculate the temperature and guess the season. Write a Python program that takes a number as input, representing the temperature in degrees Fahrenheit, and converts it into degrees Celsius, and then prints the season based on the following table:\n",
        "\n",
        "\n",
        "| Temperature (degrees Celsius) | Season|\n",
        "| --- | --- | \n",
        "|Less than 20 degrees| Winter |\n",
        "|  |  | \n",
        "|Between 20 degrees and 25 degrees| Autumn |\n",
        "|  |  | \n",
        "|Between 25 degrees and 30 degrees| Spring |\n",
        "|  |  | \n",
        "|Greater than 30 degrees| Summer |\n",
        "|  |  | \n",
        "\n",
        "\n",
        "Use the following formula to convert the temperature:\\\n",
        "(degrees Celsius) = ((degrees Fahrenheit) - 32) * 0.56\n",
        "\n",
        "==========================================================\n",
        "\n",
        "**Sample Input 1:**\\\n",
        "82\n",
        "\n",
        "**Sample Output 1:**\\\n",
        "28 degrees C\\\n",
        "Spring\n",
        "\n",
        "**Explanation:** The temperature in Celsius is (82 - 32) * 0.56 = 28 degrees, which is printed. This is between 25 and 30 degrees, so “Spring” is printed after that.\n",
        "\n",
        "==========================================================\n",
        "\n",
        "**Sample Input 2:**\\\n",
        "32\n",
        "\n",
        "**Sample Output 2:**\\\n",
        "0 degrees C\\\n",
        "Winter\n",
        "\n",
        "**Explanation:** The temperature in Celsius is (32 - 32) * 0.56 = 0 degrees, which is printed. This is less than 20 degrees, so “Winter” is printed after that."
      ],
      "metadata": {
        "id": "hHzKxtvDJCy3"
      }
    },
    {
      "cell_type": "code",
      "source": [
        "#todo\n",
        "degrees_fahrenheit = int(input(\"Enter the temperature: \"))\n",
        "degrees_celsius = int((((degrees_fahrenheit) - 32) * 0.56))\n",
        "print(degrees_celsius, \"degrees C\")\n",
        "if (degrees_celsius > 30):\n",
        "    print(\"Summer\")\n",
        "elif (25 <= degrees_celsius <= 30):\n",
        "    print(\"Spring\")\n",
        "elif (20 <= degrees_celsius <= 25):\n",
        "    print(\"Autumn\")\n",
        "else:\n",
        "    print(\"Winter\")"
      ],
      "metadata": {
        "id": "PBYbvcITLYHL"
      },
      "execution_count": null,
      "outputs": []
    },
    {
      "cell_type": "markdown",
      "source": [
        "### Task 15\n",
        "Suppose, your friend is building an automated car called “Besla”. He needs to fix the programming of the car so that it runs at a proper speed. Now, write a python program that takes 2 inputs (distance in meters and time in seconds). The program should then print the velocity in kilometers per hour of that car. Also, it should print whether the car is working properly based on the following chart.\n",
        "\n",
        "|Velocity|Information to be printed|\n",
        "|------|------|\n",
        "|Less than 60 km/h  |Too slow. Needs more changes.\n",
        "|Between 60 km/h to 90 km/h |Velocity is okay. The car is ready!\n",
        "|Greater than 90 km/h|Too fast. Only a few changes should suffice. \n",
        "\n",
        "==========================================\n",
        "\n",
        "**Sample Input 1:**\\\n",
        "160000\\\n",
        "7200\n",
        "\n",
        "\n",
        "**Sample Output 1:**\\\n",
        "80.0 km/h\\\n",
        "Velocity is okay. The car is ready!\n",
        "\n",
        "\n",
        "**Explanation:** After the conversion of distance and time, the velocity is (160/2) km/h = 80 km/h. So the velocity is okay\n",
        "\n",
        " ==========================================\n",
        "\n",
        "**Sample Input 2:**\\\n",
        "25400\\\n",
        "3600\n",
        "\n",
        "\n",
        "**Sample Output 2:**\\\n",
        "25.4 km/h\\\n",
        "Too slow. Needs more changes.\n",
        "\n",
        "**Explanation:** After the conversion of distance and time, the velocity is (25.4/1) km/h = 25.4 km/h. So the speed is too slow."
      ],
      "metadata": {
        "id": "YTpHMi0rLY_U"
      }
    },
    {
      "cell_type": "code",
      "source": [
        "#todo\n",
        "m_distance = int(input(\"Enter the distance: \"))\n",
        "s_time = int(input(\"Enter the time: \"))\n",
        "velocity = ((m_distance / 1000) / (s_time / 3600))\n",
        "print(velocity , \"km/h\")\n",
        "if (velocity > 90):\n",
        "    print(\"Too fast. Only a few changes should suffice.\")\n",
        "elif (60 <= velocity <= 90):\n",
        "    print(\"Velocity is okay. The car is ready!\")\n",
        "else:\n",
        "    print(\"Too slow. Needs more changes.\")"
      ],
      "metadata": {
        "id": "Gq52rezpLemr"
      },
      "execution_count": null,
      "outputs": []
    },
    {
      "cell_type": "markdown",
      "source": [
        "### Task 16\n",
        "Write a python program that takes the CGPA and no of credits completed by a student and prints whether the student is eligible for a waiver and of what percentage. \n",
        "\n",
        "To be eligible for a waiver, a student must have completed at least 30 credits and earned a CGPA greater or equal to 3.8. If not, please print \"The students is not eligible for a waiver\".\n",
        "\n",
        "**CGPA** | **Waiver percentage**\n",
        "--- | ---\n",
        "3.80 - 3.89 | 25 percent\n",
        "3.90 - 3.94 | 50 percent\n",
        "3.95 - 3.99 | 75 percent\n",
        "4.00 | 100 percent\n",
        "\n",
        "\n",
        "**Sample Input 1:** \\\n",
        "3.93 \\\n",
        "78 \\\n",
        "\n",
        "**Sample Output 1:**\\\n",
        "The student is eligible for a waiver of 50 percent.\n",
        "\n",
        "================================================================================\n",
        "\n",
        "**Sample Input 2:** \\\n",
        "3.79 \\\n",
        "24 \\\n",
        "\n",
        "**Sample Output 2:**\\\n",
        "The students is not eligible for a waiver \\\n"
      ],
      "metadata": {
        "id": "dJVOTwKyLfML"
      }
    },
    {
      "cell_type": "code",
      "source": [
        "#todo\n",
        "cgpa = float(input(\"Enter your CGPA: \"))\n",
        "c_credits = int(input(\"Enter the no of completed credits: \"))\n",
        "if(c_credits >= 30):\n",
        "    if (cgpa == 4.00):\n",
        "        print(\"The student is eligible for a waiver of 100 percent.\")\n",
        "    elif (3.95 <= cgpa <= 3.99):\n",
        "        print(\"The student is eligible for a waiver of 75 percent.\")\n",
        "    elif (3.90 <= cgpa <= 3.94):\n",
        "        print(\"The student is eligible for a waiver of 50 percent.\")\n",
        "    elif (3.80 <= cgpa <= 3.89):\n",
        "        print(\"The student is eligible for a waiver of 25 percent.\")\n",
        "    else:\n",
        "        print(\"The students is not eligible for a waiver\")\n",
        "else:\n",
        "    print(\"The students is not eligible for a waiver\")\n"
      ],
      "metadata": {
        "id": "wlVNvKnZLlBL",
        "colab": {
          "base_uri": "https://localhost:8080/"
        },
        "outputId": "890ccaa3-1496-41c2-86bb-66bfcc011032"
      },
      "execution_count": null,
      "outputs": [
        {
          "output_type": "stream",
          "name": "stdout",
          "text": [
            "Enter your CGPA: 3.85\n",
            "Enter the no of completed credits: 39\n",
            "The student is eligible for a waiver of 25 percent.\n"
          ]
        }
      ]
    },
    {
      "cell_type": "markdown",
      "metadata": {
        "id": "AWbbbs5mSK6O"
      },
      "source": [
        "## Optional Tasks (17 - 19) [Ungraded]"
      ]
    },
    {
      "cell_type": "markdown",
      "metadata": {
        "id": "HHaloARnTY9O"
      },
      "source": [
        "**These tasks are just for practice. No marks will be deducted for not completing them and no bonus marks will be given for solving them. Just try and practice these problems.**"
      ]
    },
    {
      "cell_type": "markdown",
      "metadata": {
        "id": "APBZn5NOGxx0"
      },
      "source": [
        "### Task 17\n",
        "\n",
        "Write the Python code of a program that reads an integer, and prints the integer if it is a multiple of **NEITHER 2 NOR 5.** \n",
        "\n",
        "For example, 1, 3, 7, 9, 11, 13, 17, 19, 21, 23, 27, 29, 31, 33, 37, 39 …\n",
        "\n",
        "==========================================================\n",
        "\n",
        "*hint(1): you may use the modulus (%) operator for checking the divisibility*\n",
        "\n",
        "*hint(2): you can consider the number to be an integer* \n",
        "\n",
        "\n",
        "==========================================================\n",
        "\n",
        "**Sample Input 1:** \\\n",
        "3\n",
        "\n",
        "**Sample Output 1:** \\\n",
        "3\n",
        "\n",
        "\n",
        "==========================================================\n",
        "\n",
        "\n",
        "**Sample Input 2:** \\\n",
        "19\n",
        "\n",
        "**Sample Output 2:** \\\n",
        "19\n",
        "\n",
        "==========================================================\n",
        "\n",
        "\n",
        "**Sample Input 3:** \\\n",
        "5\n",
        "\n",
        "**Sample Output 3:** \\\n",
        "No\n",
        "\n",
        "==========================================================\n",
        "\n",
        "\n",
        "**Sample Input 4:** \\\n",
        "12\n",
        "\n",
        "**Sample Output 4:** \\\n",
        "No\n"
      ]
    },
    {
      "cell_type": "code",
      "metadata": {
        "id": "3j7LKP26Gxx2",
        "colab": {
          "base_uri": "https://localhost:8080/"
        },
        "outputId": "ed781b4f-36be-4e7f-a53c-78c144feb6cd"
      },
      "source": [
        "#todo\n",
        "sample = int(input(\"please enter the number: \"))\n",
        "if(sample % 2 == 0 or sample % 5 == 0):\n",
        "  print(\"No\")\n",
        "else:\n",
        "  print(sample)\n",
        "\n"
      ],
      "execution_count": null,
      "outputs": [
        {
          "output_type": "stream",
          "name": "stdout",
          "text": [
            "please enter the number: 20\n",
            "No\n"
          ]
        }
      ]
    },
    {
      "cell_type": "markdown",
      "metadata": {
        "id": "rhv6Zkj7Gxx5"
      },
      "source": [
        "### Task 18\n",
        "\n",
        "Write the Python code of a program that reads an integer, and prints the integer if it is **NOT a multiple of 2** OR **NOT a multiple of 5.**\n",
        "\n",
        "For example, 1, 2, 3, 4, 5, 6, 7, 8, 9, 11, 12, 13, 14, 15, 16, 17, 18, 19, 21, 22\n",
        "\n",
        "==========================================================\n",
        "\n",
        "*hint(1): you may use the modulus (%) operator for checking the divisibility*\n",
        "\n",
        "*hint(2): you can consider the number to be an integer* \n",
        "\n",
        "\n",
        "==========================================================\n",
        "\n",
        "**Sample Input 1:** \\\n",
        "3\n",
        "\n",
        "**Sample Output 1:** \\\n",
        "3\n",
        "\n",
        "==========================================================\n",
        "\n",
        "**Sample Input 2:** \\\n",
        "15\n",
        "\n",
        "**Sample Output 2:** \\\n",
        "15\n",
        "\n",
        "==========================================================\n",
        "\n",
        "**Sample Input 3:** \\\n",
        "20\n",
        "\n",
        "**Sample Output 3:** \\\n",
        "No\n",
        "\n",
        "==========================================================\n",
        "\n",
        "**Sample Input 4:** \\\n",
        "14\n",
        "\n",
        "**Sample Output 4:** \\\n",
        "14"
      ]
    },
    {
      "cell_type": "code",
      "metadata": {
        "id": "mEjdHcbGGxx5",
        "colab": {
          "base_uri": "https://localhost:8080/"
        },
        "outputId": "72b9e5ef-bb5c-4e93-8d3e-c5ee07fbb251"
      },
      "source": [
        "#todo\n",
        "sample = int(input(\"please enter the number: \"))\n",
        "if(sample % 2 == 0 and sample % 5 == 0):\n",
        "  print(\"No\")\n",
        "else:\n",
        "  print(sample)"
      ],
      "execution_count": null,
      "outputs": [
        {
          "output_type": "stream",
          "name": "stdout",
          "text": [
            "please enter the number: 30\n",
            "No\n"
          ]
        }
      ]
    },
    {
      "cell_type": "markdown",
      "source": [
        "### Task 19\n",
        "Fiona has recently started acrylic painting and she is planning to order a few canvases and paints from an online stationery shop. The price of each 10 x 10 sized canvas is **120 tk** and the price of each 25 ml paint tube is **75 tk**. Depending on the total amount ordered from the shop, she will get some discounts. The table below shows the discount she will get on her total amount.\n",
        "\n",
        "\n",
        "|Total Amount (TK)|Discount (TK)|\n",
        "|------|------|\n",
        "|0 - 299|No Discount|\n",
        "|300 - 499|10|\n",
        "|500 - 749 |20|\n",
        "|750 - 999|50|\n",
        "|>= 1000|150|\n",
        "\n",
        "Write a python program and take two inputs from the user. The first input will be the number of canvases and the second input will be the number of paint tubes ordered. Based on the price of each item, calculate the total amount that Fiona needs to pay including the discount.  \n",
        "\n",
        " ================================\n",
        "\n",
        "\n",
        "**Sample Input 1:**\\\n",
        "5\\\n",
        "8\n",
        "\n",
        "\n",
        "**Sample Output 1:**\\\n",
        "Previous total: 1200\\\n",
        "New total after discount: 1050\n",
        "\n",
        "\n",
        "**Explanation:** 5 * 120 + 8 * 75 = 1200 Tk was her bill without discount.  For 1200 Tk, the discount amount is 150 Tk. So, her new bill with a discount is (1200 - 150) = 1050 Tk.\n",
        "\n",
        "================================\n",
        "\n",
        "**Sample Input 2:**\\\n",
        "0\\\n",
        "3\n",
        "\n",
        "\n",
        "**Sample Output 2:**\\\n",
        "Previous total: 225\\\n",
        "New total after discount: 225\n",
        "\n",
        "\n",
        "\n",
        "**Explanation:** 0 * 120 + 3 * 75 = 225 Tk was her bill without discount.  For 225 Tk, the discount amount is 0 Tk. So, her new bill with a discount is (225 - 0) = 225 Tk.\n"
      ],
      "metadata": {
        "id": "_AN4Ne3drEvn"
      }
    },
    {
      "cell_type": "code",
      "source": [
        "#todo\n",
        "canvas = int(input(\"Enter the quantity of 10x10 canvases you want to order:\"))\n",
        "paint_tube = int(input(\"Enter the quantity of 25ml paint tube you want to order:\"))\n",
        "t_ammount = (canvas * 120 + paint_tube * 75)\n",
        "print(\"Previous total: \", t_ammount, \"Tk\")\n",
        "if (t_ammount >= 1000):\n",
        "    print(\"New total after discount: \", (t_ammount - 150), \"Tk\")\n",
        "elif (750 <= t_ammount <= 999):\n",
        "    print(\"New total after discount: \", (t_ammount - 50), \"Tk\")\n",
        "elif (500 <= t_ammount <= 749):\n",
        "    print(\"New total after discount: \", (t_ammount - 20), \"Tk\")\n",
        "elif (300 <= t_ammount <= 499):\n",
        "    print(\"New total after discount: \", (t_ammount - 10), \"Tk\")\n",
        "elif (0 <= t_ammount <= 299):\n",
        "    print(\"New total after discount: \", t_ammount, \"Tk\")"
      ],
      "metadata": {
        "id": "0C_5PeeyrDtk"
      },
      "execution_count": null,
      "outputs": []
    },
    {
      "cell_type": "markdown",
      "source": [
        ""
      ],
      "metadata": {
        "id": "WbCjJjeSu0lr"
      }
    }
  ]
}